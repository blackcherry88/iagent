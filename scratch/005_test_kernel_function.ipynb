{
 "cells": [
  {
   "cell_type": "code",
   "execution_count": 2,
   "id": "890f8a24",
   "metadata": {},
   "outputs": [
    {
     "name": "stdout",
     "output_type": "stream",
     "text": [
      "Processed string: HELLO\n",
      "Processed number: 10\n"
     ]
    }
   ],
   "source": [
    "from semantic_kernel.functions import kernel_function, KernelFunction\n",
    "from typing import Union\n",
    "import semantic_kernel as sk\n",
    "\n",
    "class MathPlugin:\n",
    "    @kernel_function(\n",
    "        description=\"Processes a value that can be either a string or an integer\",\n",
    "        name=\"process_value\"\n",
    "    )\n",
    "    def process_value(self, value: Union[str, int]) -> str:\n",
    "        # Handle string input\n",
    "        if isinstance(value, str):\n",
    "            return f\"Processed string: {value.upper()}\"\n",
    "        # Handle integer input\n",
    "        elif isinstance(value, int):\n",
    "            return f\"Processed number: {value * 2}\"\n",
    "        else:\n",
    "            return \"Unsupported type\"\n",
    "\n",
    "# Using the function with a kernel\n",
    "kernel = sk.Kernel()\n",
    "plugin = kernel.add_plugin(MathPlugin(), plugin_name=\"Math\")\n",
    "\n",
    "# Call with a string parameter\n",
    "result1 = await kernel.invoke(plugin[\"process_value\"], value=\"hello\")\n",
    "print(result1)  # Outputs: \"Processed string: HELLO\"\n",
    "\n",
    "# Call with an integer parameter\n",
    "result2 = await kernel.invoke(plugin[\"process_value\"], value=5)\n",
    "print(result2)  # Outputs: \"Processed number: 10\"\n"
   ]
  },
  {
   "cell_type": "code",
   "execution_count": 3,
   "id": "0470a62d",
   "metadata": {},
   "outputs": [
    {
     "data": {
      "text/plain": [
       "['__abstractmethods__',\n",
       " '__annotations__',\n",
       " '__class__',\n",
       " '__class_getitem__',\n",
       " '__class_vars__',\n",
       " '__contains__',\n",
       " '__copy__',\n",
       " '__deepcopy__',\n",
       " '__delattr__',\n",
       " '__dict__',\n",
       " '__dir__',\n",
       " '__doc__',\n",
       " '__eq__',\n",
       " '__fields__',\n",
       " '__fields_set__',\n",
       " '__format__',\n",
       " '__ge__',\n",
       " '__get_pydantic_core_schema__',\n",
       " '__get_pydantic_json_schema__',\n",
       " '__getattr__',\n",
       " '__getattribute__',\n",
       " '__getitem__',\n",
       " '__getstate__',\n",
       " '__gt__',\n",
       " '__hash__',\n",
       " '__init__',\n",
       " '__init_subclass__',\n",
       " '__iter__',\n",
       " '__le__',\n",
       " '__lt__',\n",
       " '__module__',\n",
       " '__ne__',\n",
       " '__new__',\n",
       " '__pretty__',\n",
       " '__private_attributes__',\n",
       " '__pydantic_complete__',\n",
       " '__pydantic_computed_fields__',\n",
       " '__pydantic_core_schema__',\n",
       " '__pydantic_custom_init__',\n",
       " '__pydantic_decorators__',\n",
       " '__pydantic_extra__',\n",
       " '__pydantic_fields__',\n",
       " '__pydantic_fields_set__',\n",
       " '__pydantic_generic_metadata__',\n",
       " '__pydantic_init_subclass__',\n",
       " '__pydantic_parent_namespace__',\n",
       " '__pydantic_post_init__',\n",
       " '__pydantic_private__',\n",
       " '__pydantic_root_model__',\n",
       " '__pydantic_serializer__',\n",
       " '__pydantic_setattr_handlers__',\n",
       " '__pydantic_validator__',\n",
       " '__reduce__',\n",
       " '__reduce_ex__',\n",
       " '__replace__',\n",
       " '__repr__',\n",
       " '__repr_args__',\n",
       " '__repr_name__',\n",
       " '__repr_recursion__',\n",
       " '__repr_str__',\n",
       " '__rich_repr__',\n",
       " '__setattr__',\n",
       " '__setitem__',\n",
       " '__setstate__',\n",
       " '__signature__',\n",
       " '__sizeof__',\n",
       " '__slots__',\n",
       " '__str__',\n",
       " '__subclasshook__',\n",
       " '__weakref__',\n",
       " '_abc_impl',\n",
       " '_calculate_keys',\n",
       " '_copy_and_set_values',\n",
       " '_get_value',\n",
       " '_iter',\n",
       " '_parse_or_copy',\n",
       " '_setattr_handler',\n",
       " '_validate_functions',\n",
       " 'add',\n",
       " 'add_dict',\n",
       " 'add_list',\n",
       " 'construct',\n",
       " 'copy',\n",
       " 'description',\n",
       " 'dict',\n",
       " 'from_directory',\n",
       " 'from_object',\n",
       " 'from_openapi',\n",
       " 'from_orm',\n",
       " 'from_python_file',\n",
       " 'from_text_search_with_get_search_results',\n",
       " 'from_text_search_with_get_text_search_results',\n",
       " 'from_text_search_with_search',\n",
       " 'functions',\n",
       " 'get',\n",
       " 'get_functions_metadata',\n",
       " 'json',\n",
       " 'model_computed_fields',\n",
       " 'model_config',\n",
       " 'model_construct',\n",
       " 'model_copy',\n",
       " 'model_dump',\n",
       " 'model_dump_json',\n",
       " 'model_extra',\n",
       " 'model_fields',\n",
       " 'model_fields_set',\n",
       " 'model_json_schema',\n",
       " 'model_parametrized_name',\n",
       " 'model_post_init',\n",
       " 'model_rebuild',\n",
       " 'model_validate',\n",
       " 'model_validate_json',\n",
       " 'model_validate_strings',\n",
       " 'name',\n",
       " 'parse_file',\n",
       " 'parse_obj',\n",
       " 'parse_raw',\n",
       " 'schema',\n",
       " 'schema_json',\n",
       " 'set',\n",
       " 'setdefault',\n",
       " 'update',\n",
       " 'update_forward_refs',\n",
       " 'validate']"
      ]
     },
     "execution_count": 3,
     "metadata": {},
     "output_type": "execute_result"
    }
   ],
   "source": [
    "dir(plugin)"
   ]
  },
  {
   "cell_type": "code",
   "execution_count": 5,
   "id": "da207568",
   "metadata": {},
   "outputs": [
    {
     "data": {
      "text/plain": [
       "'{\"name\":\"Math\",\"description\":null,\"functions\":{\"process_value\":{\"metadata\":{\"name\":\"process_value\",\"plugin_name\":\"Math\",\"description\":\"Processes a value that can be either a string or an integer\",\"parameters\":[{\"name\":\"value\",\"description\":null,\"default_value\":null,\"type_\":\"str, int\",\"is_required\":true,\"schema_data\":{\"anyOf\":[{\"type\":\"string\"},{\"type\":\"integer\"}]},\"include_in_function_choices\":true}],\"is_prompt\":false,\"is_asynchronous\":false,\"return_parameter\":{\"name\":\"return\",\"description\":\"\",\"default_value\":null,\"type_\":\"str\",\"is_required\":true,\"schema_data\":{\"type\":\"string\"},\"include_in_function_choices\":true},\"additional_properties\":{}}}}}'"
      ]
     },
     "execution_count": 5,
     "metadata": {},
     "output_type": "execute_result"
    }
   ],
   "source": [
    "x = plugin.model_dump_json()\n",
    "x"
   ]
  },
  {
   "cell_type": "code",
   "execution_count": 9,
   "id": "f650f13a",
   "metadata": {},
   "outputs": [
    {
     "name": "stdout",
     "output_type": "stream",
     "text": [
      "[KernelFunctionMetadata(name='process_value', plugin_name='Math', description='Processes a value that can be either a string or an integer', parameters=[KernelParameterMetadata(name='value', description=None, default_value=None, type_='str, int', is_required=True, type_object=None, schema_data={'anyOf': [{'type': 'string'}, {'type': 'integer'}]}, include_in_function_choices=True)], is_prompt=False, is_asynchronous=False, return_parameter=KernelParameterMetadata(name='return', description='', default_value=None, type_='str', is_required=True, type_object=<class 'str'>, schema_data={'type': 'string'}, include_in_function_choices=True), additional_properties={})]\n"
     ]
    }
   ],
   "source": [
    "\n",
    "schema = plugin.get_functions_metadata()\n",
    "print(schema)"
   ]
  },
  {
   "cell_type": "code",
   "execution_count": null,
   "id": "a1d1aaf5",
   "metadata": {},
   "outputs": [],
   "source": []
  },
  {
   "cell_type": "code",
   "execution_count": null,
   "id": "43918d9f",
   "metadata": {},
   "outputs": [],
   "source": []
  }
 ],
 "metadata": {
  "kernelspec": {
   "display_name": ".venv",
   "language": "python",
   "name": "python3"
  },
  "language_info": {
   "codemirror_mode": {
    "name": "ipython",
    "version": 3
   },
   "file_extension": ".py",
   "mimetype": "text/x-python",
   "name": "python",
   "nbconvert_exporter": "python",
   "pygments_lexer": "ipython3",
   "version": "3.10.12"
  }
 },
 "nbformat": 4,
 "nbformat_minor": 5
}
