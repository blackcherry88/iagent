{
 "cells": [
  {
   "cell_type": "code",
   "execution_count": 4,
   "id": "c9a81f6d",
   "metadata": {},
   "outputs": [],
   "source": [
    "import instructor\n",
    "import vertexai  # type: ignore\n",
    "from vertexai.generative_models import GenerativeModel  # type: ignore\n",
    "from pydantic import BaseModel\n",
    "from dotenv import load_dotenv\n",
    "\n",
    "load_dotenv()\n",
    "\n",
    "# Initialize Vertex AI client\n",
    "vertexai.init()\n",
    "\n",
    "# Define your structured response schema\n",
    "class User(BaseModel):\n",
    "    name: str\n",
    "    age: int\n",
    "\n",
    "# Wrap the Vertex GenerativeModel in Instructor\n",
    "client = instructor.from_vertexai(\n",
    "    client=GenerativeModel(\"gemini-2.5-flash-preview-04-17\"),\n",
    "    mode=instructor.Mode.VERTEXAI_TOOLS,\n",
    ")\n"
   ]
  },
  {
   "cell_type": "code",
   "execution_count": 5,
   "id": "70702c2b",
   "metadata": {},
   "outputs": [
    {
     "data": {
      "text/plain": [
       "['__annotations__',\n",
       " '__class__',\n",
       " '__delattr__',\n",
       " '__dict__',\n",
       " '__dir__',\n",
       " '__doc__',\n",
       " '__eq__',\n",
       " '__format__',\n",
       " '__ge__',\n",
       " '__getattr__',\n",
       " '__getattribute__',\n",
       " '__gt__',\n",
       " '__hash__',\n",
       " '__init__',\n",
       " '__init_subclass__',\n",
       " '__le__',\n",
       " '__lt__',\n",
       " '__module__',\n",
       " '__ne__',\n",
       " '__new__',\n",
       " '__reduce__',\n",
       " '__reduce_ex__',\n",
       " '__repr__',\n",
       " '__setattr__',\n",
       " '__sizeof__',\n",
       " '__str__',\n",
       " '__subclasshook__',\n",
       " '__weakref__',\n",
       " 'chat',\n",
       " 'clear',\n",
       " 'client',\n",
       " 'completions',\n",
       " 'create',\n",
       " 'create_fn',\n",
       " 'create_iterable',\n",
       " 'create_partial',\n",
       " 'create_with_completion',\n",
       " 'default_model',\n",
       " 'handle_kwargs',\n",
       " 'hooks',\n",
       " 'kwargs',\n",
       " 'messages',\n",
       " 'mode',\n",
       " 'off',\n",
       " 'on',\n",
       " 'provider']"
      ]
     },
     "execution_count": 5,
     "metadata": {},
     "output_type": "execute_result"
    }
   ],
   "source": [
    "dir(client)"
   ]
  },
  {
   "cell_type": "code",
   "execution_count": 6,
   "id": "92150b74",
   "metadata": {},
   "outputs": [
    {
     "data": {
      "text/plain": [
       "User(name='Jason', age=25)"
      ]
     },
     "execution_count": 6,
     "metadata": {},
     "output_type": "execute_result"
    }
   ],
   "source": [
    "# Create a structured response synchronously\n",
    "resp = client.create(\n",
    "    messages=[{\"role\": \"user\", \"content\": \"Extract Jason is 25 years old.\"}],\n",
    "    response_model=User,\n",
    ")\n",
    "resp\n"
   ]
  },
  {
   "cell_type": "code",
   "execution_count": 8,
   "id": "651739ad",
   "metadata": {},
   "outputs": [
    {
     "data": {
      "text/plain": [
       "<bound method Instructor.create of <instructor.client.Instructor object at 0x7f3fc2f7f190>>"
      ]
     },
     "execution_count": 8,
     "metadata": {},
     "output_type": "execute_result"
    }
   ],
   "source": [
    "client.create"
   ]
  },
  {
   "cell_type": "code",
   "execution_count": 21,
   "id": "44bbaad5",
   "metadata": {},
   "outputs": [],
   "source": [
    "from pydantic import BaseModel, Field\n",
    "\n",
    "class AddInput(BaseModel):\n",
    "    \"\"\"add two numbers\"\"\"\n",
    "    x: int = Field(..., description=\"First addend\")\n",
    "    y: int = Field(..., description=\"Second addend\")\n",
    "\n",
    "class AddResult(BaseModel):\n",
    "    result: int = Field(..., description=\"Sum of x and y\")\n"
   ]
  },
  {
   "cell_type": "code",
   "execution_count": 24,
   "id": "7c0e6690",
   "metadata": {},
   "outputs": [],
   "source": [
    "from instructor import openai_schema\n",
    "\n",
    "tool_schema = openai_schema(AddInput)\n"
   ]
  },
  {
   "cell_type": "code",
   "execution_count": 25,
   "id": "ce598961",
   "metadata": {},
   "outputs": [
    {
     "data": {
      "text/plain": [
       "{'name': 'AddInput',\n",
       " 'description': 'add two numbers',\n",
       " 'parameters': {'properties': {'x': {'description': 'First addend',\n",
       "    'title': 'X',\n",
       "    'type': 'integer'},\n",
       "   'y': {'description': 'Second addend', 'title': 'Y', 'type': 'integer'}},\n",
       "  'required': ['x', 'y'],\n",
       "  'type': 'object'}}"
      ]
     },
     "execution_count": 25,
     "metadata": {},
     "output_type": "execute_result"
    }
   ],
   "source": [
    "tool_schema.openai_schema"
   ]
  },
  {
   "cell_type": "code",
   "execution_count": 26,
   "id": "239d9c16",
   "metadata": {},
   "outputs": [
    {
     "data": {
      "text/plain": [
       "AddInput(x=7, y=13)"
      ]
     },
     "execution_count": 26,
     "metadata": {},
     "output_type": "execute_result"
    }
   ],
   "source": [
    "input: AddInput = client.create(\n",
    "    messages=[{\"role\": \"user\", \"content\": \"Please add 7 and 13\"}],\n",
    "    tools=[{\"type\": \"function\", \"function\": tool_schema}],\n",
    "    response_model=AddInput,\n",
    ")\n",
    "\n",
    "input"
   ]
  },
  {
   "cell_type": "code",
   "execution_count": 27,
   "id": "391fc650",
   "metadata": {},
   "outputs": [],
   "source": [
    "def add(x: int, y: int) -> int:\n",
    "    \"\"\"Add two numbers\"\"\"\n",
    "    return x + y"
   ]
  },
  {
   "cell_type": "code",
   "execution_count": 30,
   "id": "e7bc4a90",
   "metadata": {},
   "outputs": [
    {
     "data": {
      "text/plain": [
       "20"
      ]
     },
     "execution_count": 30,
     "metadata": {},
     "output_type": "execute_result"
    }
   ],
   "source": [
    "add(**input.model_dump())"
   ]
  },
  {
   "cell_type": "code",
   "execution_count": null,
   "id": "524e127a",
   "metadata": {},
   "outputs": [],
   "source": []
  }
 ],
 "metadata": {
  "kernelspec": {
   "display_name": ".venv",
   "language": "python",
   "name": "python3"
  },
  "language_info": {
   "codemirror_mode": {
    "name": "ipython",
    "version": 3
   },
   "file_extension": ".py",
   "mimetype": "text/x-python",
   "name": "python",
   "nbconvert_exporter": "python",
   "pygments_lexer": "ipython3",
   "version": "3.10.12"
  }
 },
 "nbformat": 4,
 "nbformat_minor": 5
}
