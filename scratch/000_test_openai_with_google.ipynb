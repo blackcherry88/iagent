{
 "cells": [
  {
   "cell_type": "code",
   "execution_count": 19,
   "id": "97e84b54",
   "metadata": {},
   "outputs": [
    {
     "name": "stdout",
     "output_type": "stream",
     "text": [
      "The autoreload extension is already loaded. To reload it, use:\n",
      "  %reload_ext autoreload\n"
     ]
    }
   ],
   "source": [
    "%load_ext autoreload\n",
    "%autoreload 2"
   ]
  },
  {
   "cell_type": "code",
   "execution_count": 20,
   "id": "abe50177",
   "metadata": {},
   "outputs": [
    {
     "name": "stdout",
     "output_type": "stream",
     "text": [
      "content='Write a one-sentence bedtime story about a unicorn.' role='user' name=None\n"
     ]
    }
   ],
   "source": [
    "\"\"\"\n",
    "Test OpenAI API with a local proxy\n",
    "This script demonstrates how to use the OpenAI API with a local proxy.\n",
    "\"\"\"\n",
    "from iagent.ai.messages import UserMessage\n",
    "\n",
    "user = UserMessage(content=\"Write a one-sentence bedtime story about a unicorn.\")\n",
    "print(user)\n"
   ]
  },
  {
   "cell_type": "code",
   "execution_count": 21,
   "id": "453b656d",
   "metadata": {},
   "outputs": [],
   "source": [
    "import openai\n",
    "client = openai.OpenAI(api_key=\"anything\",base_url=\"http://0.0.0.0:4000\") # set proxy to base_url\n"
   ]
  },
  {
   "cell_type": "code",
   "execution_count": 10,
   "id": "fb7aca9d",
   "metadata": {},
   "outputs": [],
   "source": [
    "\n",
    "completion = client.chat.completions.create(\n",
    "    model=\"gemini-2.5-flash\",\n",
    "    messages=[user], # convert to json\n",
    ")\n"
   ]
  },
  {
   "cell_type": "code",
   "execution_count": 11,
   "id": "0c2006ad",
   "metadata": {},
   "outputs": [
    {
     "name": "stderr",
     "output_type": "stream",
     "text": [
      "/home/taohu/workspace/projects/iagent/.venv/lib/python3.12/site-packages/pydantic/main.py:463: UserWarning: Pydantic serializer warnings:\n",
      "  PydanticSerializationUnexpectedValue(Expected `ChoiceLogprobs` - serialized value may not be as expected [input_value=-13.472083351828836, input_type=float])\n",
      "  return self.__pydantic_serializer__.to_python(\n"
     ]
    },
    {
     "data": {
      "application/json": {
       "choices": [
        {
         "finish_reason": "stop",
         "index": 0,
         "logprobs": -13.472083351828836,
         "message": {
          "annotations": null,
          "audio": null,
          "content": "\n\nThe sleepy unicorn curled up under a blanket of stars, its horn glowing softly as it dreamt sweet dreams.",
          "function_call": null,
          "refusal": null,
          "role": "assistant",
          "tool_calls": null
         }
        }
       ],
       "created": 1746382208,
       "id": "chatcmpl-798fb977-e768-4a6e-a8b5-920f165fda03",
       "model": "gemini-2.5-flash-preview-04-17",
       "object": "chat.completion",
       "service_tier": null,
       "system_fingerprint": null,
       "usage": {
        "completion_tokens": 22,
        "completion_tokens_details": null,
        "prompt_tokens": 11,
        "prompt_tokens_details": {
         "audio_tokens": null,
         "cached_tokens": null
        },
        "total_tokens": 797
       },
       "vertex_ai_citation_metadata": [],
       "vertex_ai_grounding_metadata": [],
       "vertex_ai_safety_results": []
      },
      "text/plain": [
       "<IPython.core.display.JSON object>"
      ]
     },
     "metadata": {
      "application/json": {
       "expanded": false,
       "root": "root"
      }
     },
     "output_type": "display_data"
    }
   ],
   "source": [
    "from IPython.display import display, JSON\n",
    "\n",
    "display(JSON(completion.model_dump()))\n"
   ]
  },
  {
   "cell_type": "code",
   "execution_count": 13,
   "id": "edd18505",
   "metadata": {},
   "outputs": [
    {
     "name": "stderr",
     "output_type": "stream",
     "text": [
      "/home/taohu/workspace/projects/iagent/.venv/lib/python3.12/site-packages/pydantic/main.py:463: UserWarning: Pydantic serializer warnings:\n",
      "  PydanticSerializationUnexpectedValue(Expected `ChoiceLogprobs` - serialized value may not be as expected [input_value=-13.472083351828836, input_type=float])\n",
      "  return self.__pydantic_serializer__.to_python(\n"
     ]
    },
    {
     "data": {
      "text/plain": [
       "ChatCompletionMessage(id='chatcmpl-798fb977-e768-4a6e-a8b5-920f165fda03', choices=[Choice(finish_reason='stop', index=0, message=AssistantMessage(content='\\n\\nThe sleepy unicorn curled up under a blanket of stars, its horn glowing softly as it dreamt sweet dreams.', refusal=None, role='assistant', annotations=None, audio=None, tool_calls=None, function_call=None), logprobs=-13.472083351828836)], created=1746382208, model='gemini-2.5-flash-preview-04-17', usage=CompletionUsage(completion_tokens=22, prompt_tokens=11, total_tokens=797, completion_tokens_details=None, prompt_tokens_details={'audio_tokens': None, 'cached_tokens': None}), object='chat.completion', service_tier=None, system_fingerprint=None, vertex_ai_grounding_metadata=[], vertex_ai_safety_results=[], vertex_ai_citation_metadata=[])"
      ]
     },
     "execution_count": 13,
     "metadata": {},
     "output_type": "execute_result"
    }
   ],
   "source": [
    "from iagent.ai.messages import ChatCompletionMessage\n",
    "response = ChatCompletionMessage(**completion.model_dump())\n",
    "response"
   ]
  },
  {
   "cell_type": "code",
   "execution_count": 14,
   "id": "a28fb3a7",
   "metadata": {},
   "outputs": [
    {
     "data": {
      "application/json": {
       "choices": [
        {
         "finish_reason": "stop",
         "index": 0,
         "logprobs": -13.472083351828836,
         "message": {
          "annotations": null,
          "audio": null,
          "content": "\n\nThe sleepy unicorn curled up under a blanket of stars, its horn glowing softly as it dreamt sweet dreams.",
          "function_call": null,
          "refusal": null,
          "role": "assistant",
          "tool_calls": null
         }
        }
       ],
       "created": 1746382208,
       "id": "chatcmpl-798fb977-e768-4a6e-a8b5-920f165fda03",
       "model": "gemini-2.5-flash-preview-04-17",
       "object": "chat.completion",
       "service_tier": null,
       "system_fingerprint": null,
       "usage": {
        "completion_tokens": 22,
        "completion_tokens_details": null,
        "prompt_tokens": 11,
        "prompt_tokens_details": {
         "audio_tokens": null,
         "cached_tokens": null
        },
        "total_tokens": 797
       },
       "vertex_ai_citation_metadata": [],
       "vertex_ai_grounding_metadata": [],
       "vertex_ai_safety_results": []
      },
      "text/plain": [
       "<IPython.core.display.JSON object>"
      ]
     },
     "metadata": {
      "application/json": {
       "expanded": false,
       "root": "root"
      }
     },
     "output_type": "display_data"
    }
   ],
   "source": [
    "display(JSON(response.model_dump()))"
   ]
  },
  {
   "cell_type": "code",
   "execution_count": null,
   "id": "3048feb6",
   "metadata": {},
   "outputs": [
    {
     "ename": "ValidationError",
     "evalue": "6 validation errors for UserMessage\ncontent.str\n  Input should be a valid string [type=string_type, input_value=[{'type': 'text', 'text':...nature-boardwalk.jpg'}}], input_type=list]\n    For further information visit https://errors.pydantic.dev/2.11/v/string_type\ncontent.list[union[ContentPartText,ContentPartImage,ContentPartInputAudio]].1.ContentPartText.text\n  Field required [type=missing, input_value={'type': 'image_url', 'im...-nature-boardwalk.jpg'}}, input_type=dict]\n    For further information visit https://errors.pydantic.dev/2.11/v/missing\ncontent.list[union[ContentPartText,ContentPartImage,ContentPartInputAudio]].1.ContentPartText.type\n  Input should be 'text' [type=literal_error, input_value='image_url', input_type=str]\n    For further information visit https://errors.pydantic.dev/2.11/v/literal_error\ncontent.list[union[ContentPartText,ContentPartImage,ContentPartInputAudio]].1.ContentPartImage.image_url.detail\n  Field required [type=missing, input_value={'url': 'https://upload.w...e-nature-boardwalk.jpg'}, input_type=dict]\n    For further information visit https://errors.pydantic.dev/2.11/v/missing\ncontent.list[union[ContentPartText,ContentPartImage,ContentPartInputAudio]].1.ContentPartInputAudio.input_audio\n  Field required [type=missing, input_value={'type': 'image_url', 'im...-nature-boardwalk.jpg'}}, input_type=dict]\n    For further information visit https://errors.pydantic.dev/2.11/v/missing\ncontent.list[union[ContentPartText,ContentPartImage,ContentPartInputAudio]].1.ContentPartInputAudio.type\n  Input should be 'input_audio' [type=literal_error, input_value='image_url', input_type=str]\n    For further information visit https://errors.pydantic.dev/2.11/v/literal_error",
     "output_type": "error",
     "traceback": [
      "\u001b[31m---------------------------------------------------------------------------\u001b[39m",
      "\u001b[31mValidationError\u001b[39m                           Traceback (most recent call last)",
      "\u001b[36mCell\u001b[39m\u001b[36m \u001b[39m\u001b[32mIn[22]\u001b[39m\u001b[32m, line 1\u001b[39m\n\u001b[32m----> \u001b[39m\u001b[32m1\u001b[39m user = \u001b[43mUserMessage\u001b[49m\u001b[43m(\u001b[49m\u001b[43mcontent\u001b[49m\u001b[43m=\u001b[49m\u001b[43m[\u001b[49m\n\u001b[32m      2\u001b[39m \u001b[43m                \u001b[49m\u001b[43m{\u001b[49m\u001b[33;43m\"\u001b[39;49m\u001b[33;43mtype\u001b[39;49m\u001b[33;43m\"\u001b[39;49m\u001b[43m:\u001b[49m\u001b[43m \u001b[49m\u001b[33;43m\"\u001b[39;49m\u001b[33;43mtext\u001b[39;49m\u001b[33;43m\"\u001b[39;49m\u001b[43m,\u001b[49m\u001b[43m \u001b[49m\u001b[33;43m\"\u001b[39;49m\u001b[33;43mtext\u001b[39;49m\u001b[33;43m\"\u001b[39;49m\u001b[43m:\u001b[49m\u001b[43m \u001b[49m\u001b[33;43m\"\u001b[39;49m\u001b[33;43mWhat\u001b[39;49m\u001b[33;43m'\u001b[39;49m\u001b[33;43ms in this image?\u001b[39;49m\u001b[33;43m\"\u001b[39;49m\u001b[43m}\u001b[49m\u001b[43m,\u001b[49m\n\u001b[32m      3\u001b[39m \u001b[43m                \u001b[49m\u001b[43m{\u001b[49m\n\u001b[32m      4\u001b[39m \u001b[43m                    \u001b[49m\u001b[33;43m\"\u001b[39;49m\u001b[33;43mtype\u001b[39;49m\u001b[33;43m\"\u001b[39;49m\u001b[43m:\u001b[49m\u001b[43m \u001b[49m\u001b[33;43m\"\u001b[39;49m\u001b[33;43mimage_url\u001b[39;49m\u001b[33;43m\"\u001b[39;49m\u001b[43m,\u001b[49m\n\u001b[32m      5\u001b[39m \u001b[43m                    \u001b[49m\u001b[33;43m\"\u001b[39;49m\u001b[33;43mimage_url\u001b[39;49m\u001b[33;43m\"\u001b[39;49m\u001b[43m:\u001b[49m\u001b[43m \u001b[49m\u001b[43m{\u001b[49m\n\u001b[32m      6\u001b[39m \u001b[43m                        \u001b[49m\u001b[33;43m\"\u001b[39;49m\u001b[33;43murl\u001b[39;49m\u001b[33;43m\"\u001b[39;49m\u001b[43m:\u001b[49m\u001b[43m \u001b[49m\u001b[33;43m\"\u001b[39;49m\u001b[33;43mhttps://upload.wikimedia.org/wikipedia/commons/thumb/d/dd/Gfp-wisconsin-madison-the-nature-boardwalk.jpg/2560px-Gfp-wisconsin-madison-the-nature-boardwalk.jpg\u001b[39;49m\u001b[33;43m\"\u001b[39;49m\u001b[43m,\u001b[49m\n\u001b[32m      7\u001b[39m \u001b[43m                    \u001b[49m\u001b[43m}\u001b[49m\u001b[43m,\u001b[49m\n\u001b[32m      8\u001b[39m \u001b[43m                \u001b[49m\u001b[43m}\u001b[49m\u001b[43m,\u001b[49m\n\u001b[32m      9\u001b[39m \u001b[43m            \u001b[49m\u001b[43m]\u001b[49m\u001b[43m)\u001b[49m\n",
      "\u001b[36mFile \u001b[39m\u001b[32m~/workspace/projects/iagent/.venv/lib/python3.12/site-packages/pydantic/main.py:253\u001b[39m, in \u001b[36mBaseModel.__init__\u001b[39m\u001b[34m(self, **data)\u001b[39m\n\u001b[32m    251\u001b[39m \u001b[38;5;66;03m# `__tracebackhide__` tells pytest and some other tools to omit this function from tracebacks\u001b[39;00m\n\u001b[32m    252\u001b[39m __tracebackhide__ = \u001b[38;5;28;01mTrue\u001b[39;00m\n\u001b[32m--> \u001b[39m\u001b[32m253\u001b[39m validated_self = \u001b[38;5;28;43mself\u001b[39;49m\u001b[43m.\u001b[49m\u001b[43m__pydantic_validator__\u001b[49m\u001b[43m.\u001b[49m\u001b[43mvalidate_python\u001b[49m\u001b[43m(\u001b[49m\u001b[43mdata\u001b[49m\u001b[43m,\u001b[49m\u001b[43m \u001b[49m\u001b[43mself_instance\u001b[49m\u001b[43m=\u001b[49m\u001b[38;5;28;43mself\u001b[39;49m\u001b[43m)\u001b[49m\n\u001b[32m    254\u001b[39m \u001b[38;5;28;01mif\u001b[39;00m \u001b[38;5;28mself\u001b[39m \u001b[38;5;129;01mis\u001b[39;00m \u001b[38;5;129;01mnot\u001b[39;00m validated_self:\n\u001b[32m    255\u001b[39m     warnings.warn(\n\u001b[32m    256\u001b[39m         \u001b[33m'\u001b[39m\u001b[33mA custom validator is returning a value other than `self`.\u001b[39m\u001b[38;5;130;01m\\n\u001b[39;00m\u001b[33m'\u001b[39m\n\u001b[32m    257\u001b[39m         \u001b[33m\"\u001b[39m\u001b[33mReturning anything other than `self` from a top level model validator isn\u001b[39m\u001b[33m'\u001b[39m\u001b[33mt supported when validating via `__init__`.\u001b[39m\u001b[38;5;130;01m\\n\u001b[39;00m\u001b[33m\"\u001b[39m\n\u001b[32m    258\u001b[39m         \u001b[33m'\u001b[39m\u001b[33mSee the `model_validator` docs (https://docs.pydantic.dev/latest/concepts/validators/#model-validators) for more details.\u001b[39m\u001b[33m'\u001b[39m,\n\u001b[32m    259\u001b[39m         stacklevel=\u001b[32m2\u001b[39m,\n\u001b[32m    260\u001b[39m     )\n",
      "\u001b[31mValidationError\u001b[39m: 6 validation errors for UserMessage\ncontent.str\n  Input should be a valid string [type=string_type, input_value=[{'type': 'text', 'text':...nature-boardwalk.jpg'}}], input_type=list]\n    For further information visit https://errors.pydantic.dev/2.11/v/string_type\ncontent.list[union[ContentPartText,ContentPartImage,ContentPartInputAudio]].1.ContentPartText.text\n  Field required [type=missing, input_value={'type': 'image_url', 'im...-nature-boardwalk.jpg'}}, input_type=dict]\n    For further information visit https://errors.pydantic.dev/2.11/v/missing\ncontent.list[union[ContentPartText,ContentPartImage,ContentPartInputAudio]].1.ContentPartText.type\n  Input should be 'text' [type=literal_error, input_value='image_url', input_type=str]\n    For further information visit https://errors.pydantic.dev/2.11/v/literal_error\ncontent.list[union[ContentPartText,ContentPartImage,ContentPartInputAudio]].1.ContentPartImage.image_url.detail\n  Field required [type=missing, input_value={'url': 'https://upload.w...e-nature-boardwalk.jpg'}, input_type=dict]\n    For further information visit https://errors.pydantic.dev/2.11/v/missing\ncontent.list[union[ContentPartText,ContentPartImage,ContentPartInputAudio]].1.ContentPartInputAudio.input_audio\n  Field required [type=missing, input_value={'type': 'image_url', 'im...-nature-boardwalk.jpg'}}, input_type=dict]\n    For further information visit https://errors.pydantic.dev/2.11/v/missing\ncontent.list[union[ContentPartText,ContentPartImage,ContentPartInputAudio]].1.ContentPartInputAudio.type\n  Input should be 'input_audio' [type=literal_error, input_value='image_url', input_type=str]\n    For further information visit https://errors.pydantic.dev/2.11/v/literal_error"
     ]
    }
   ],
   "source": [
    "from iagent.ai.messages import ImageURL, PartImage, PartText\n",
    "\n",
    "\n",
    "user = UserMessage(content=[\n",
    "    PartText(text=\"What's in this image?\"),\n",
    "    PartImage(\n",
    "        image_url=ImageURL(\n",
    "            url=\"https://upload.wikimedia.org/wikipedia/commons/thumb/d/dd/Gfp-wisconsin-madison-the-nature-boardwalk.jpg/2560px-Gfp-wisconsin-madison-the-nature-boardwalk.jpg\",\n",
    "        )\n",
    "    ),\n",
    "])\n"
   ]
  },
  {
   "cell_type": "code",
   "execution_count": 17,
   "id": "002cca4c",
   "metadata": {},
   "outputs": [
    {
     "data": {
      "text/plain": [
       "UserMessage(content=ValidatorIterator(index=0, schema=Some(Union(UnionValidator { mode: Smart, choices: [(Dataclass(DataclassValidator { strict: false, validator: DataclassArgs(DataclassArgsValidator { fields: [Field { kw_only: false, name: \"text\", py_name: Py(0xb43640), init: true, init_only: false, lookup_key_collection: LookupKeyCollection { by_name: Simple(LookupPath { first_item: PathItemString { key: \"text\", py_key: Py(0x7fe66dc72a60) }, rest: [] }), by_alias: None, by_alias_then_name: None }, validator: Str(StrValidator { strict: false, coerce_numbers_to_str: false }), frozen: false }, Field { kw_only: false, name: \"type\", py_name: Py(0xb43948), init: true, init_only: false, lookup_key_collection: LookupKeyCollection { by_name: Simple(LookupPath { first_item: PathItemString { key: \"type\", py_key: Py(0x7fe66dc94060) }, rest: [] }), by_alias: None, by_alias_then_name: None }, validator: Literal(LiteralValidator { lookup: LiteralLookup { expected_bool: None, expected_int: None, expected_str: Some({\"text\": 0}), expected_py_dict: None, expected_py_values: None, expected_py_primitives: Some(Py(0x7fe66dadd6c0)), values: [Py(0xb43640)] }, expected_repr: \"'text'\", name: \"literal['text']\" }), frozen: false }], positional_count: 2, init_only_count: None, dataclass_name: \"ContentPartText\", validator_name: \"dataclass-args[ContentPartText]\", extra_behavior: Ignore, extras_validator: None, loc_by_alias: true, validate_by_alias: None, validate_by_name: None }), class: Py(0x319c8c40), generic_origin: None, fields: [Py(0xb43640), Py(0xb43948)], post_init: None, revalidate: Never, name: \"ContentPartText\", frozen: false, slots: false }), None), (Dataclass(DataclassValidator { strict: false, validator: DataclassArgs(DataclassArgsValidator { fields: [Field { kw_only: false, name: \"image_url\", py_name: Py(0x7fe68446cd30), init: true, init_only: false, lookup_key_collection: LookupKeyCollection { by_name: Simple(LookupPath { first_item: PathItemString { key: \"image_url\", py_key: Py(0x7fe66dadddb0) }, rest: [] }), by_alias: None, by_alias_then_name: None }, validator: Dataclass(DataclassValidator { strict: false, validator: DataclassArgs(DataclassArgsValidator { fields: [Field { kw_only: false, name: \"url\", py_name: Py(0x7fe68fb22f70), init: true, init_only: false, lookup_key_collection: LookupKeyCollection { by_name: Simple(LookupPath { first_item: PathItemString { key: \"url\", py_key: Py(0x7fe66dc96520) }, rest: [] }), by_alias: None, by_alias_then_name: None }, validator: Str(StrValidator { strict: false, coerce_numbers_to_str: false }), frozen: false }, Field { kw_only: false, name: \"detail\", py_name: Py(0x7fe68d7ea9a0), init: true, init_only: false, lookup_key_collection: LookupKeyCollection { by_name: Simple(LookupPath { first_item: PathItemString { key: \"detail\", py_key: Py(0x7fe66dc948a0) }, rest: [] }), by_alias: None, by_alias_then_name: None }, validator: Literal(LiteralValidator { lookup: LiteralLookup { expected_bool: None, expected_int: None, expected_str: Some({\"high\": 2, \"low\": 1, \"auto\": 0}), expected_py_dict: None, expected_py_values: None, expected_py_primitives: Some(Py(0x7fe66dade680)), values: [Py(0x7fe68fccda70), Py(0x7fe68fce4510), Py(0x7fe68fce4540)] }, expected_repr: \"'auto', 'low' or 'high'\", name: \"literal['auto','low','high']\" }), frozen: false }], positional_count: 2, init_only_count: None, dataclass_name: \"ImageURL\", validator_name: \"dataclass-args[ImageURL]\", extra_behavior: Ignore, extras_validator: None, loc_by_alias: true, validate_by_alias: None, validate_by_name: None }), class: Py(0x319ac770), generic_origin: None, fields: [Py(0x7fe68fb22f70), Py(0x7fe68d7ea9a0)], post_init: None, revalidate: Never, name: \"ImageURL\", frozen: false, slots: false }), frozen: false }, Field { kw_only: false, name: \"type\", py_name: Py(0xb43948), init: true, init_only: false, lookup_key_collection: LookupKeyCollection { by_name: Simple(LookupPath { first_item: PathItemString { key: \"type\", py_key: Py(0x7fe66dc940c0) }, rest: [] }), by_alias: None, by_alias_then_name: None }, validator: Literal(LiteralValidator { lookup: LiteralLookup { expected_bool: None, expected_int: None, expected_str: Some({\"image_url\": 0}), expected_py_dict: None, expected_py_values: None, expected_py_primitives: Some(Py(0x7fe66dac9180)), values: [Py(0x7fe68446cd30)] }, expected_repr: \"'image_url'\", name: \"literal['image_url']\" }), frozen: false }], positional_count: 2, init_only_count: None, dataclass_name: \"ContentPartImage\", validator_name: \"dataclass-args[ContentPartImage]\", extra_behavior: Ignore, extras_validator: None, loc_by_alias: true, validate_by_alias: None, validate_by_name: None }), class: Py(0x319c8550), generic_origin: None, fields: [Py(0x7fe68446cd30), Py(0xb43948)], post_init: None, revalidate: Never, name: \"ContentPartImage\", frozen: false, slots: false }), None), (Dataclass(DataclassValidator { strict: false, validator: DataclassArgs(DataclassArgsValidator { fields: [Field { kw_only: false, name: \"input_audio\", py_name: Py(0x7fe68462abf0), init: true, init_only: false, lookup_key_collection: LookupKeyCollection { by_name: Simple(LookupPath { first_item: PathItemString { key: \"input_audio\", py_key: Py(0x7fe66dadd070) }, rest: [] }), by_alias: None, by_alias_then_name: None }, validator: Dataclass(DataclassValidator { strict: false, validator: DataclassArgs(DataclassArgsValidator { fields: [Field { kw_only: false, name: \"data\", py_name: Py(0xb3efc0), init: true, init_only: false, lookup_key_collection: LookupKeyCollection { by_name: Simple(LookupPath { first_item: PathItemString { key: \"data\", py_key: Py(0x7fe66dc96250) }, rest: [] }), by_alias: None, by_alias_then_name: None }, validator: Str(StrValidator { strict: false, coerce_numbers_to_str: false }), frozen: false }, Field { kw_only: false, name: \"format\", py_name: Py(0xb3fe68), init: true, init_only: false, lookup_key_collection: LookupKeyCollection { by_name: Simple(LookupPath { first_item: PathItemString { key: \"format\", py_key: Py(0x7fe66dc95b90) }, rest: [] }), by_alias: None, by_alias_then_name: None }, validator: Literal(LiteralValidator { lookup: LiteralLookup { expected_bool: None, expected_int: None, expected_str: Some({\"mp3\": 1, \"wav\": 0}), expected_py_dict: None, expected_py_values: None, expected_py_primitives: Some(Py(0x7fe66dadf3c0)), values: [Py(0x7fe68464f600), Py(0x7fe68464f660)] }, expected_repr: \"'wav' or 'mp3'\", name: \"literal['wav','mp3']\" }), frozen: false }], positional_count: 2, init_only_count: None, dataclass_name: \"InputAudio\", validator_name: \"dataclass-args[InputAudio]\", extra_behavior: Ignore, extras_validator: None, loc_by_alias: true, validate_by_alias: None, validate_by_name: None }), class: Py(0x319abfb0), generic_origin: None, fields: [Py(0xb3efc0), Py(0xb3fe68)], post_init: None, revalidate: Never, name: \"InputAudio\", frozen: false, slots: false }), frozen: false }, Field { kw_only: false, name: \"type\", py_name: Py(0xb43948), init: true, init_only: false, lookup_key_collection: LookupKeyCollection { by_name: Simple(LookupPath { first_item: PathItemString { key: \"type\", py_key: Py(0x7fe66dc95a40) }, rest: [] }), by_alias: None, by_alias_then_name: None }, validator: Literal(LiteralValidator { lookup: LiteralLookup { expected_bool: None, expected_int: None, expected_str: Some({\"input_audio\": 0}), expected_py_dict: None, expected_py_values: None, expected_py_primitives: Some(Py(0x7fe66dadf180)), values: [Py(0x7fe68462abf0)] }, expected_repr: \"'input_audio'\", name: \"literal['input_audio']\" }), frozen: false }], positional_count: 2, init_only_count: None, dataclass_name: \"ContentPartInputAudio\", validator_name: \"dataclass-args[ContentPartInputAudio]\", extra_behavior: Ignore, extras_validator: None, loc_by_alias: true, validate_by_alias: None, validate_by_name: None }), class: Py(0x319ac390), generic_origin: None, fields: [Py(0x7fe68462abf0), Py(0xb43948)], post_init: None, revalidate: Never, name: \"ContentPartInputAudio\", frozen: false, slots: false }), None)], custom_error: None, name: \"union[ContentPartText,ContentPartImage,ContentPartInputAudio]\" }))), role='user', name=None)"
      ]
     },
     "execution_count": 17,
     "metadata": {},
     "output_type": "execute_result"
    }
   ],
   "source": [
    "user"
   ]
  },
  {
   "cell_type": "code",
   "execution_count": 18,
   "id": "7ddda0cb",
   "metadata": {},
   "outputs": [
    {
     "name": "stderr",
     "output_type": "stream",
     "text": [
      "/home/taohu/workspace/projects/iagent/.venv/lib/python3.12/site-packages/pydantic/main.py:463: UserWarning: Pydantic serializer warnings:\n",
      "  PydanticSerializationUnexpectedValue(Expected `str` - serialized value may not be as expected [input_value=ValidatorIterator(index=2...entPartInputAudio]\" }))), input_type=ValidatorIterator])\n",
      "  PydanticSerializationUnexpectedValue(ValidationError: 5 validation errors for ValidatorIterator\n",
      "1.ContentPartText.text\n",
      "  Field required [type=missing, input_value={'type': 'image_url', 'im...-nature-boardwalk.jpg'}}, input_type=dict]\n",
      "    For further information visit https://errors.pydantic.dev/2.11/v/missing\n",
      "1.ContentPartText.type\n",
      "  Input should be 'text' [type=literal_error, input_value='image_url', input_type=str]\n",
      "    For further information visit https://errors.pydantic.dev/2.11/v/literal_error\n",
      "1.ContentPartImage.image_url.detail\n",
      "  Field required [type=missing, input_value={'url': 'https://upload.w...e-nature-boardwalk.jpg'}, input_type=dict]\n",
      "    For further information visit https://errors.pydantic.dev/2.11/v/missing\n",
      "1.ContentPartInputAudio.input_audio\n",
      "  Field required [type=missing, input_value={'type': 'image_url', 'im...-nature-boardwalk.jpg'}}, input_type=dict]\n",
      "    For further information visit https://errors.pydantic.dev/2.11/v/missing\n",
      "1.ContentPartInputAudio.type\n",
      "  Input should be 'input_audio' [type=literal_error, input_value='image_url', input_type=str]\n",
      "    For further information visit https://errors.pydantic.dev/2.11/v/literal_error)\n",
      "  return self.__pydantic_serializer__.to_python(\n"
     ]
    },
    {
     "ename": "BadRequestError",
     "evalue": "Error code: 400 - {'error': {'message': 'litellm.BadRequestError: VertexAIException BadRequestError - {\\n  \"error\": {\\n    \"code\": 400,\\n    \"message\": \"Unable to submit request because at least one contents field is required. Learn more: https://cloud.google.com/vertex-ai/generative-ai/docs/model-reference/gemini\",\\n    \"status\": \"INVALID_ARGUMENT\"\\n  }\\n}\\n. Received Model Group=gemini-2.5-flash\\nAvailable Model Group Fallbacks=None', 'type': None, 'param': None, 'code': '400'}}",
     "output_type": "error",
     "traceback": [
      "\u001b[31m---------------------------------------------------------------------------\u001b[39m",
      "\u001b[31mBadRequestError\u001b[39m                           Traceback (most recent call last)",
      "\u001b[36mCell\u001b[39m\u001b[36m \u001b[39m\u001b[32mIn[18]\u001b[39m\u001b[32m, line 1\u001b[39m\n\u001b[32m----> \u001b[39m\u001b[32m1\u001b[39m response = \u001b[43mclient\u001b[49m\u001b[43m.\u001b[49m\u001b[43mchat\u001b[49m\u001b[43m.\u001b[49m\u001b[43mcompletions\u001b[49m\u001b[43m.\u001b[49m\u001b[43mcreate\u001b[49m\u001b[43m(\u001b[49m\n\u001b[32m      2\u001b[39m \u001b[43m    \u001b[49m\u001b[43mmodel\u001b[49m\u001b[43m=\u001b[49m\u001b[33;43m\"\u001b[39;49m\u001b[33;43mgemini-2.5-flash\u001b[39;49m\u001b[33;43m\"\u001b[39;49m\u001b[43m,\u001b[49m\n\u001b[32m      3\u001b[39m \u001b[43m    \u001b[49m\u001b[43mmessages\u001b[49m\u001b[43m=\u001b[49m\u001b[43m[\u001b[49m\u001b[43muser\u001b[49m\u001b[43m]\u001b[49m\u001b[43m)\u001b[49m\n\u001b[32m      5\u001b[39m display(JSON(response.model_dump()))\n",
      "\u001b[36mFile \u001b[39m\u001b[32m~/workspace/projects/iagent/.venv/lib/python3.12/site-packages/openai/_utils/_utils.py:287\u001b[39m, in \u001b[36mrequired_args.<locals>.inner.<locals>.wrapper\u001b[39m\u001b[34m(*args, **kwargs)\u001b[39m\n\u001b[32m    285\u001b[39m             msg = \u001b[33mf\u001b[39m\u001b[33m\"\u001b[39m\u001b[33mMissing required argument: \u001b[39m\u001b[38;5;132;01m{\u001b[39;00mquote(missing[\u001b[32m0\u001b[39m])\u001b[38;5;132;01m}\u001b[39;00m\u001b[33m\"\u001b[39m\n\u001b[32m    286\u001b[39m     \u001b[38;5;28;01mraise\u001b[39;00m \u001b[38;5;167;01mTypeError\u001b[39;00m(msg)\n\u001b[32m--> \u001b[39m\u001b[32m287\u001b[39m \u001b[38;5;28;01mreturn\u001b[39;00m \u001b[43mfunc\u001b[49m\u001b[43m(\u001b[49m\u001b[43m*\u001b[49m\u001b[43margs\u001b[49m\u001b[43m,\u001b[49m\u001b[43m \u001b[49m\u001b[43m*\u001b[49m\u001b[43m*\u001b[49m\u001b[43mkwargs\u001b[49m\u001b[43m)\u001b[49m\n",
      "\u001b[36mFile \u001b[39m\u001b[32m~/workspace/projects/iagent/.venv/lib/python3.12/site-packages/openai/resources/chat/completions/completions.py:925\u001b[39m, in \u001b[36mCompletions.create\u001b[39m\u001b[34m(self, messages, model, audio, frequency_penalty, function_call, functions, logit_bias, logprobs, max_completion_tokens, max_tokens, metadata, modalities, n, parallel_tool_calls, prediction, presence_penalty, reasoning_effort, response_format, seed, service_tier, stop, store, stream, stream_options, temperature, tool_choice, tools, top_logprobs, top_p, user, web_search_options, extra_headers, extra_query, extra_body, timeout)\u001b[39m\n\u001b[32m    882\u001b[39m \u001b[38;5;129m@required_args\u001b[39m([\u001b[33m\"\u001b[39m\u001b[33mmessages\u001b[39m\u001b[33m\"\u001b[39m, \u001b[33m\"\u001b[39m\u001b[33mmodel\u001b[39m\u001b[33m\"\u001b[39m], [\u001b[33m\"\u001b[39m\u001b[33mmessages\u001b[39m\u001b[33m\"\u001b[39m, \u001b[33m\"\u001b[39m\u001b[33mmodel\u001b[39m\u001b[33m\"\u001b[39m, \u001b[33m\"\u001b[39m\u001b[33mstream\u001b[39m\u001b[33m\"\u001b[39m])\n\u001b[32m    883\u001b[39m \u001b[38;5;28;01mdef\u001b[39;00m\u001b[38;5;250m \u001b[39m\u001b[34mcreate\u001b[39m(\n\u001b[32m    884\u001b[39m     \u001b[38;5;28mself\u001b[39m,\n\u001b[32m   (...)\u001b[39m\u001b[32m    922\u001b[39m     timeout: \u001b[38;5;28mfloat\u001b[39m | httpx.Timeout | \u001b[38;5;28;01mNone\u001b[39;00m | NotGiven = NOT_GIVEN,\n\u001b[32m    923\u001b[39m ) -> ChatCompletion | Stream[ChatCompletionChunk]:\n\u001b[32m    924\u001b[39m     validate_response_format(response_format)\n\u001b[32m--> \u001b[39m\u001b[32m925\u001b[39m     \u001b[38;5;28;01mreturn\u001b[39;00m \u001b[38;5;28;43mself\u001b[39;49m\u001b[43m.\u001b[49m\u001b[43m_post\u001b[49m\u001b[43m(\u001b[49m\n\u001b[32m    926\u001b[39m \u001b[43m        \u001b[49m\u001b[33;43m\"\u001b[39;49m\u001b[33;43m/chat/completions\u001b[39;49m\u001b[33;43m\"\u001b[39;49m\u001b[43m,\u001b[49m\n\u001b[32m    927\u001b[39m \u001b[43m        \u001b[49m\u001b[43mbody\u001b[49m\u001b[43m=\u001b[49m\u001b[43mmaybe_transform\u001b[49m\u001b[43m(\u001b[49m\n\u001b[32m    928\u001b[39m \u001b[43m            \u001b[49m\u001b[43m{\u001b[49m\n\u001b[32m    929\u001b[39m \u001b[43m                \u001b[49m\u001b[33;43m\"\u001b[39;49m\u001b[33;43mmessages\u001b[39;49m\u001b[33;43m\"\u001b[39;49m\u001b[43m:\u001b[49m\u001b[43m \u001b[49m\u001b[43mmessages\u001b[49m\u001b[43m,\u001b[49m\n\u001b[32m    930\u001b[39m \u001b[43m                \u001b[49m\u001b[33;43m\"\u001b[39;49m\u001b[33;43mmodel\u001b[39;49m\u001b[33;43m\"\u001b[39;49m\u001b[43m:\u001b[49m\u001b[43m \u001b[49m\u001b[43mmodel\u001b[49m\u001b[43m,\u001b[49m\n\u001b[32m    931\u001b[39m \u001b[43m                \u001b[49m\u001b[33;43m\"\u001b[39;49m\u001b[33;43maudio\u001b[39;49m\u001b[33;43m\"\u001b[39;49m\u001b[43m:\u001b[49m\u001b[43m \u001b[49m\u001b[43maudio\u001b[49m\u001b[43m,\u001b[49m\n\u001b[32m    932\u001b[39m \u001b[43m                \u001b[49m\u001b[33;43m\"\u001b[39;49m\u001b[33;43mfrequency_penalty\u001b[39;49m\u001b[33;43m\"\u001b[39;49m\u001b[43m:\u001b[49m\u001b[43m \u001b[49m\u001b[43mfrequency_penalty\u001b[49m\u001b[43m,\u001b[49m\n\u001b[32m    933\u001b[39m \u001b[43m                \u001b[49m\u001b[33;43m\"\u001b[39;49m\u001b[33;43mfunction_call\u001b[39;49m\u001b[33;43m\"\u001b[39;49m\u001b[43m:\u001b[49m\u001b[43m \u001b[49m\u001b[43mfunction_call\u001b[49m\u001b[43m,\u001b[49m\n\u001b[32m    934\u001b[39m \u001b[43m                \u001b[49m\u001b[33;43m\"\u001b[39;49m\u001b[33;43mfunctions\u001b[39;49m\u001b[33;43m\"\u001b[39;49m\u001b[43m:\u001b[49m\u001b[43m \u001b[49m\u001b[43mfunctions\u001b[49m\u001b[43m,\u001b[49m\n\u001b[32m    935\u001b[39m \u001b[43m                \u001b[49m\u001b[33;43m\"\u001b[39;49m\u001b[33;43mlogit_bias\u001b[39;49m\u001b[33;43m\"\u001b[39;49m\u001b[43m:\u001b[49m\u001b[43m \u001b[49m\u001b[43mlogit_bias\u001b[49m\u001b[43m,\u001b[49m\n\u001b[32m    936\u001b[39m \u001b[43m                \u001b[49m\u001b[33;43m\"\u001b[39;49m\u001b[33;43mlogprobs\u001b[39;49m\u001b[33;43m\"\u001b[39;49m\u001b[43m:\u001b[49m\u001b[43m \u001b[49m\u001b[43mlogprobs\u001b[49m\u001b[43m,\u001b[49m\n\u001b[32m    937\u001b[39m \u001b[43m                \u001b[49m\u001b[33;43m\"\u001b[39;49m\u001b[33;43mmax_completion_tokens\u001b[39;49m\u001b[33;43m\"\u001b[39;49m\u001b[43m:\u001b[49m\u001b[43m \u001b[49m\u001b[43mmax_completion_tokens\u001b[49m\u001b[43m,\u001b[49m\n\u001b[32m    938\u001b[39m \u001b[43m                \u001b[49m\u001b[33;43m\"\u001b[39;49m\u001b[33;43mmax_tokens\u001b[39;49m\u001b[33;43m\"\u001b[39;49m\u001b[43m:\u001b[49m\u001b[43m \u001b[49m\u001b[43mmax_tokens\u001b[49m\u001b[43m,\u001b[49m\n\u001b[32m    939\u001b[39m \u001b[43m                \u001b[49m\u001b[33;43m\"\u001b[39;49m\u001b[33;43mmetadata\u001b[39;49m\u001b[33;43m\"\u001b[39;49m\u001b[43m:\u001b[49m\u001b[43m \u001b[49m\u001b[43mmetadata\u001b[49m\u001b[43m,\u001b[49m\n\u001b[32m    940\u001b[39m \u001b[43m                \u001b[49m\u001b[33;43m\"\u001b[39;49m\u001b[33;43mmodalities\u001b[39;49m\u001b[33;43m\"\u001b[39;49m\u001b[43m:\u001b[49m\u001b[43m \u001b[49m\u001b[43mmodalities\u001b[49m\u001b[43m,\u001b[49m\n\u001b[32m    941\u001b[39m \u001b[43m                \u001b[49m\u001b[33;43m\"\u001b[39;49m\u001b[33;43mn\u001b[39;49m\u001b[33;43m\"\u001b[39;49m\u001b[43m:\u001b[49m\u001b[43m \u001b[49m\u001b[43mn\u001b[49m\u001b[43m,\u001b[49m\n\u001b[32m    942\u001b[39m \u001b[43m                \u001b[49m\u001b[33;43m\"\u001b[39;49m\u001b[33;43mparallel_tool_calls\u001b[39;49m\u001b[33;43m\"\u001b[39;49m\u001b[43m:\u001b[49m\u001b[43m \u001b[49m\u001b[43mparallel_tool_calls\u001b[49m\u001b[43m,\u001b[49m\n\u001b[32m    943\u001b[39m \u001b[43m                \u001b[49m\u001b[33;43m\"\u001b[39;49m\u001b[33;43mprediction\u001b[39;49m\u001b[33;43m\"\u001b[39;49m\u001b[43m:\u001b[49m\u001b[43m \u001b[49m\u001b[43mprediction\u001b[49m\u001b[43m,\u001b[49m\n\u001b[32m    944\u001b[39m \u001b[43m                \u001b[49m\u001b[33;43m\"\u001b[39;49m\u001b[33;43mpresence_penalty\u001b[39;49m\u001b[33;43m\"\u001b[39;49m\u001b[43m:\u001b[49m\u001b[43m \u001b[49m\u001b[43mpresence_penalty\u001b[49m\u001b[43m,\u001b[49m\n\u001b[32m    945\u001b[39m \u001b[43m                \u001b[49m\u001b[33;43m\"\u001b[39;49m\u001b[33;43mreasoning_effort\u001b[39;49m\u001b[33;43m\"\u001b[39;49m\u001b[43m:\u001b[49m\u001b[43m \u001b[49m\u001b[43mreasoning_effort\u001b[49m\u001b[43m,\u001b[49m\n\u001b[32m    946\u001b[39m \u001b[43m                \u001b[49m\u001b[33;43m\"\u001b[39;49m\u001b[33;43mresponse_format\u001b[39;49m\u001b[33;43m\"\u001b[39;49m\u001b[43m:\u001b[49m\u001b[43m \u001b[49m\u001b[43mresponse_format\u001b[49m\u001b[43m,\u001b[49m\n\u001b[32m    947\u001b[39m \u001b[43m                \u001b[49m\u001b[33;43m\"\u001b[39;49m\u001b[33;43mseed\u001b[39;49m\u001b[33;43m\"\u001b[39;49m\u001b[43m:\u001b[49m\u001b[43m \u001b[49m\u001b[43mseed\u001b[49m\u001b[43m,\u001b[49m\n\u001b[32m    948\u001b[39m \u001b[43m                \u001b[49m\u001b[33;43m\"\u001b[39;49m\u001b[33;43mservice_tier\u001b[39;49m\u001b[33;43m\"\u001b[39;49m\u001b[43m:\u001b[49m\u001b[43m \u001b[49m\u001b[43mservice_tier\u001b[49m\u001b[43m,\u001b[49m\n\u001b[32m    949\u001b[39m \u001b[43m                \u001b[49m\u001b[33;43m\"\u001b[39;49m\u001b[33;43mstop\u001b[39;49m\u001b[33;43m\"\u001b[39;49m\u001b[43m:\u001b[49m\u001b[43m \u001b[49m\u001b[43mstop\u001b[49m\u001b[43m,\u001b[49m\n\u001b[32m    950\u001b[39m \u001b[43m                \u001b[49m\u001b[33;43m\"\u001b[39;49m\u001b[33;43mstore\u001b[39;49m\u001b[33;43m\"\u001b[39;49m\u001b[43m:\u001b[49m\u001b[43m \u001b[49m\u001b[43mstore\u001b[49m\u001b[43m,\u001b[49m\n\u001b[32m    951\u001b[39m \u001b[43m                \u001b[49m\u001b[33;43m\"\u001b[39;49m\u001b[33;43mstream\u001b[39;49m\u001b[33;43m\"\u001b[39;49m\u001b[43m:\u001b[49m\u001b[43m \u001b[49m\u001b[43mstream\u001b[49m\u001b[43m,\u001b[49m\n\u001b[32m    952\u001b[39m \u001b[43m                \u001b[49m\u001b[33;43m\"\u001b[39;49m\u001b[33;43mstream_options\u001b[39;49m\u001b[33;43m\"\u001b[39;49m\u001b[43m:\u001b[49m\u001b[43m \u001b[49m\u001b[43mstream_options\u001b[49m\u001b[43m,\u001b[49m\n\u001b[32m    953\u001b[39m \u001b[43m                \u001b[49m\u001b[33;43m\"\u001b[39;49m\u001b[33;43mtemperature\u001b[39;49m\u001b[33;43m\"\u001b[39;49m\u001b[43m:\u001b[49m\u001b[43m \u001b[49m\u001b[43mtemperature\u001b[49m\u001b[43m,\u001b[49m\n\u001b[32m    954\u001b[39m \u001b[43m                \u001b[49m\u001b[33;43m\"\u001b[39;49m\u001b[33;43mtool_choice\u001b[39;49m\u001b[33;43m\"\u001b[39;49m\u001b[43m:\u001b[49m\u001b[43m \u001b[49m\u001b[43mtool_choice\u001b[49m\u001b[43m,\u001b[49m\n\u001b[32m    955\u001b[39m \u001b[43m                \u001b[49m\u001b[33;43m\"\u001b[39;49m\u001b[33;43mtools\u001b[39;49m\u001b[33;43m\"\u001b[39;49m\u001b[43m:\u001b[49m\u001b[43m \u001b[49m\u001b[43mtools\u001b[49m\u001b[43m,\u001b[49m\n\u001b[32m    956\u001b[39m \u001b[43m                \u001b[49m\u001b[33;43m\"\u001b[39;49m\u001b[33;43mtop_logprobs\u001b[39;49m\u001b[33;43m\"\u001b[39;49m\u001b[43m:\u001b[49m\u001b[43m \u001b[49m\u001b[43mtop_logprobs\u001b[49m\u001b[43m,\u001b[49m\n\u001b[32m    957\u001b[39m \u001b[43m                \u001b[49m\u001b[33;43m\"\u001b[39;49m\u001b[33;43mtop_p\u001b[39;49m\u001b[33;43m\"\u001b[39;49m\u001b[43m:\u001b[49m\u001b[43m \u001b[49m\u001b[43mtop_p\u001b[49m\u001b[43m,\u001b[49m\n\u001b[32m    958\u001b[39m \u001b[43m                \u001b[49m\u001b[33;43m\"\u001b[39;49m\u001b[33;43muser\u001b[39;49m\u001b[33;43m\"\u001b[39;49m\u001b[43m:\u001b[49m\u001b[43m \u001b[49m\u001b[43muser\u001b[49m\u001b[43m,\u001b[49m\n\u001b[32m    959\u001b[39m \u001b[43m                \u001b[49m\u001b[33;43m\"\u001b[39;49m\u001b[33;43mweb_search_options\u001b[39;49m\u001b[33;43m\"\u001b[39;49m\u001b[43m:\u001b[49m\u001b[43m \u001b[49m\u001b[43mweb_search_options\u001b[49m\u001b[43m,\u001b[49m\n\u001b[32m    960\u001b[39m \u001b[43m            \u001b[49m\u001b[43m}\u001b[49m\u001b[43m,\u001b[49m\n\u001b[32m    961\u001b[39m \u001b[43m            \u001b[49m\u001b[43mcompletion_create_params\u001b[49m\u001b[43m.\u001b[49m\u001b[43mCompletionCreateParamsStreaming\u001b[49m\n\u001b[32m    962\u001b[39m \u001b[43m            \u001b[49m\u001b[38;5;28;43;01mif\u001b[39;49;00m\u001b[43m \u001b[49m\u001b[43mstream\u001b[49m\n\u001b[32m    963\u001b[39m \u001b[43m            \u001b[49m\u001b[38;5;28;43;01melse\u001b[39;49;00m\u001b[43m \u001b[49m\u001b[43mcompletion_create_params\u001b[49m\u001b[43m.\u001b[49m\u001b[43mCompletionCreateParamsNonStreaming\u001b[49m\u001b[43m,\u001b[49m\n\u001b[32m    964\u001b[39m \u001b[43m        \u001b[49m\u001b[43m)\u001b[49m\u001b[43m,\u001b[49m\n\u001b[32m    965\u001b[39m \u001b[43m        \u001b[49m\u001b[43moptions\u001b[49m\u001b[43m=\u001b[49m\u001b[43mmake_request_options\u001b[49m\u001b[43m(\u001b[49m\n\u001b[32m    966\u001b[39m \u001b[43m            \u001b[49m\u001b[43mextra_headers\u001b[49m\u001b[43m=\u001b[49m\u001b[43mextra_headers\u001b[49m\u001b[43m,\u001b[49m\u001b[43m \u001b[49m\u001b[43mextra_query\u001b[49m\u001b[43m=\u001b[49m\u001b[43mextra_query\u001b[49m\u001b[43m,\u001b[49m\u001b[43m \u001b[49m\u001b[43mextra_body\u001b[49m\u001b[43m=\u001b[49m\u001b[43mextra_body\u001b[49m\u001b[43m,\u001b[49m\u001b[43m \u001b[49m\u001b[43mtimeout\u001b[49m\u001b[43m=\u001b[49m\u001b[43mtimeout\u001b[49m\n\u001b[32m    967\u001b[39m \u001b[43m        \u001b[49m\u001b[43m)\u001b[49m\u001b[43m,\u001b[49m\n\u001b[32m    968\u001b[39m \u001b[43m        \u001b[49m\u001b[43mcast_to\u001b[49m\u001b[43m=\u001b[49m\u001b[43mChatCompletion\u001b[49m\u001b[43m,\u001b[49m\n\u001b[32m    969\u001b[39m \u001b[43m        \u001b[49m\u001b[43mstream\u001b[49m\u001b[43m=\u001b[49m\u001b[43mstream\u001b[49m\u001b[43m \u001b[49m\u001b[38;5;129;43;01mor\u001b[39;49;00m\u001b[43m \u001b[49m\u001b[38;5;28;43;01mFalse\u001b[39;49;00m\u001b[43m,\u001b[49m\n\u001b[32m    970\u001b[39m \u001b[43m        \u001b[49m\u001b[43mstream_cls\u001b[49m\u001b[43m=\u001b[49m\u001b[43mStream\u001b[49m\u001b[43m[\u001b[49m\u001b[43mChatCompletionChunk\u001b[49m\u001b[43m]\u001b[49m\u001b[43m,\u001b[49m\n\u001b[32m    971\u001b[39m \u001b[43m    \u001b[49m\u001b[43m)\u001b[49m\n",
      "\u001b[36mFile \u001b[39m\u001b[32m~/workspace/projects/iagent/.venv/lib/python3.12/site-packages/openai/_base_client.py:1239\u001b[39m, in \u001b[36mSyncAPIClient.post\u001b[39m\u001b[34m(self, path, cast_to, body, options, files, stream, stream_cls)\u001b[39m\n\u001b[32m   1225\u001b[39m \u001b[38;5;28;01mdef\u001b[39;00m\u001b[38;5;250m \u001b[39m\u001b[34mpost\u001b[39m(\n\u001b[32m   1226\u001b[39m     \u001b[38;5;28mself\u001b[39m,\n\u001b[32m   1227\u001b[39m     path: \u001b[38;5;28mstr\u001b[39m,\n\u001b[32m   (...)\u001b[39m\u001b[32m   1234\u001b[39m     stream_cls: \u001b[38;5;28mtype\u001b[39m[_StreamT] | \u001b[38;5;28;01mNone\u001b[39;00m = \u001b[38;5;28;01mNone\u001b[39;00m,\n\u001b[32m   1235\u001b[39m ) -> ResponseT | _StreamT:\n\u001b[32m   1236\u001b[39m     opts = FinalRequestOptions.construct(\n\u001b[32m   1237\u001b[39m         method=\u001b[33m\"\u001b[39m\u001b[33mpost\u001b[39m\u001b[33m\"\u001b[39m, url=path, json_data=body, files=to_httpx_files(files), **options\n\u001b[32m   1238\u001b[39m     )\n\u001b[32m-> \u001b[39m\u001b[32m1239\u001b[39m     \u001b[38;5;28;01mreturn\u001b[39;00m cast(ResponseT, \u001b[38;5;28;43mself\u001b[39;49m\u001b[43m.\u001b[49m\u001b[43mrequest\u001b[49m\u001b[43m(\u001b[49m\u001b[43mcast_to\u001b[49m\u001b[43m,\u001b[49m\u001b[43m \u001b[49m\u001b[43mopts\u001b[49m\u001b[43m,\u001b[49m\u001b[43m \u001b[49m\u001b[43mstream\u001b[49m\u001b[43m=\u001b[49m\u001b[43mstream\u001b[49m\u001b[43m,\u001b[49m\u001b[43m \u001b[49m\u001b[43mstream_cls\u001b[49m\u001b[43m=\u001b[49m\u001b[43mstream_cls\u001b[49m\u001b[43m)\u001b[49m)\n",
      "\u001b[36mFile \u001b[39m\u001b[32m~/workspace/projects/iagent/.venv/lib/python3.12/site-packages/openai/_base_client.py:1034\u001b[39m, in \u001b[36mSyncAPIClient.request\u001b[39m\u001b[34m(self, cast_to, options, stream, stream_cls)\u001b[39m\n\u001b[32m   1031\u001b[39m             err.response.read()\n\u001b[32m   1033\u001b[39m         log.debug(\u001b[33m\"\u001b[39m\u001b[33mRe-raising status error\u001b[39m\u001b[33m\"\u001b[39m)\n\u001b[32m-> \u001b[39m\u001b[32m1034\u001b[39m         \u001b[38;5;28;01mraise\u001b[39;00m \u001b[38;5;28mself\u001b[39m._make_status_error_from_response(err.response) \u001b[38;5;28;01mfrom\u001b[39;00m\u001b[38;5;250m \u001b[39m\u001b[38;5;28;01mNone\u001b[39;00m\n\u001b[32m   1036\u001b[39m     \u001b[38;5;28;01mbreak\u001b[39;00m\n\u001b[32m   1038\u001b[39m \u001b[38;5;28;01massert\u001b[39;00m response \u001b[38;5;129;01mis\u001b[39;00m \u001b[38;5;129;01mnot\u001b[39;00m \u001b[38;5;28;01mNone\u001b[39;00m, \u001b[33m\"\u001b[39m\u001b[33mcould not resolve response (should never happen)\u001b[39m\u001b[33m\"\u001b[39m\n",
      "\u001b[31mBadRequestError\u001b[39m: Error code: 400 - {'error': {'message': 'litellm.BadRequestError: VertexAIException BadRequestError - {\\n  \"error\": {\\n    \"code\": 400,\\n    \"message\": \"Unable to submit request because at least one contents field is required. Learn more: https://cloud.google.com/vertex-ai/generative-ai/docs/model-reference/gemini\",\\n    \"status\": \"INVALID_ARGUMENT\"\\n  }\\n}\\n. Received Model Group=gemini-2.5-flash\\nAvailable Model Group Fallbacks=None', 'type': None, 'param': None, 'code': '400'}}"
     ]
    }
   ],
   "source": [
    "\n",
    "response = client.chat.completions.create(\n",
    "    model=\"gemini-2.5-flash\",\n",
    "    messages=[user])\n",
    "\n",
    "display(JSON(response.model_dump()))"
   ]
  },
  {
   "cell_type": "code",
   "execution_count": null,
   "id": "9033a56e",
   "metadata": {},
   "outputs": [],
   "source": []
  }
 ],
 "metadata": {
  "kernelspec": {
   "display_name": ".venv",
   "language": "python",
   "name": "python3"
  },
  "language_info": {
   "codemirror_mode": {
    "name": "ipython",
    "version": 3
   },
   "file_extension": ".py",
   "mimetype": "text/x-python",
   "name": "python",
   "nbconvert_exporter": "python",
   "pygments_lexer": "ipython3",
   "version": "3.12.3"
  }
 },
 "nbformat": 4,
 "nbformat_minor": 5
}
