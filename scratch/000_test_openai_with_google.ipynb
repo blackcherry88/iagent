{
 "cells": [
  {
   "cell_type": "code",
   "execution_count": 35,
   "id": "97e84b54",
   "metadata": {},
   "outputs": [
    {
     "name": "stdout",
     "output_type": "stream",
     "text": [
      "The autoreload extension is already loaded. To reload it, use:\n",
      "  %reload_ext autoreload\n"
     ]
    }
   ],
   "source": [
    "%load_ext autoreload\n",
    "%autoreload 2"
   ]
  },
  {
   "cell_type": "code",
   "execution_count": 39,
   "id": "abe50177",
   "metadata": {},
   "outputs": [
    {
     "data": {
      "text/plain": [
       "'{\"content\":\"Write a one-sentence bedtime story about a unicorn.\",\"role\":\"user\"}'"
      ]
     },
     "execution_count": 39,
     "metadata": {},
     "output_type": "execute_result"
    }
   ],
   "source": [
    "\"\"\"\n",
    "Test OpenAI API with a local proxy\n",
    "This script demonstrates how to use the OpenAI API with a local proxy.\n",
    "\"\"\"\n",
    "from iagent.ai.messages import UserMessage\n",
    "\n",
    "user = UserMessage(content=\"Write a one-sentence bedtime story about a unicorn.\")\n",
    "user.model_dump_json()\n"
   ]
  },
  {
   "cell_type": "code",
   "execution_count": 40,
   "id": "453b656d",
   "metadata": {},
   "outputs": [],
   "source": [
    "import openai\n",
    "client = openai.OpenAI(api_key=\"anything\",base_url=\"http://0.0.0.0:4000\") # set proxy to base_url\n"
   ]
  },
  {
   "cell_type": "code",
   "execution_count": 43,
   "id": "fb7aca9d",
   "metadata": {},
   "outputs": [],
   "source": [
    "from dataclasses import asdict\n",
    "completion = client.chat.completions.create(\n",
    "    model=\"gemini-2.5-flash\",\n",
    "    messages=[user.model_dump()], # convert to json\n",
    ")\n"
   ]
  },
  {
   "cell_type": "code",
   "execution_count": null,
   "id": "0c2006ad",
   "metadata": {},
   "outputs": [
    {
     "name": "stderr",
     "output_type": "stream",
     "text": [
      "/home/taohu/workspace/projects/iagent/.venv/lib/python3.12/site-packages/pydantic/main.py:463: UserWarning: Pydantic serializer warnings:\n",
      "  PydanticSerializationUnexpectedValue(Expected `ChoiceLogprobs` - serialized value may not be as expected [input_value=-29.328223092215403, input_type=float])\n",
      "  return self.__pydantic_serializer__.to_python(\n"
     ]
    },
    {
     "data": {
      "application/json": {
       "choices": [
        {
         "finish_reason": "stop",
         "index": 0,
         "logprobs": -29.328223092215403,
         "message": {
          "annotations": null,
          "audio": null,
          "content": "Wishing sweet dreams, the gentle unicorn curled up beneath the sleepy moon.",
          "function_call": null,
          "refusal": null,
          "role": "assistant",
          "tool_calls": null
         }
        }
       ],
       "created": 1746385532,
       "id": "chatcmpl-74727a4a-5e8a-47fb-8d41-8f2dbe250e46",
       "model": "gemini-2.5-flash-preview-04-17",
       "object": "chat.completion",
       "service_tier": null,
       "system_fingerprint": null,
       "usage": {
        "completion_tokens": 14,
        "completion_tokens_details": null,
        "prompt_tokens": 11,
        "prompt_tokens_details": {
         "audio_tokens": null,
         "cached_tokens": null
        },
        "total_tokens": 801
       },
       "vertex_ai_citation_metadata": [],
       "vertex_ai_grounding_metadata": [],
       "vertex_ai_safety_results": []
      },
      "text/plain": [
       "<IPython.core.display.JSON object>"
      ]
     },
     "metadata": {
      "application/json": {
       "expanded": false,
       "root": "root"
      }
     },
     "output_type": "display_data"
    }
   ],
   "source": [
    "from IPython.display import display, JSON\n",
    "\n",
    "display(completion.model_dump())\n"
   ]
  },
  {
   "cell_type": "code",
   "execution_count": 32,
   "id": "d376c4f1",
   "metadata": {},
   "outputs": [
    {
     "name": "stderr",
     "output_type": "stream",
     "text": [
      "/home/taohu/workspace/projects/iagent/.venv/lib/python3.12/site-packages/pydantic/main.py:463: UserWarning: Pydantic serializer warnings:\n",
      "  PydanticSerializationUnexpectedValue(Expected `ChoiceLogprobs` - serialized value may not be as expected [input_value=-1.5340794255727959, input_type=float])\n",
      "  return self.__pydantic_serializer__.to_python(\n"
     ]
    },
    {
     "data": {
      "text/plain": [
       "{'id': 'chatcmpl-2a1f728e-6a60-49ba-a21c-6064bcb408b3',\n",
       " 'choices': [{'finish_reason': 'stop',\n",
       "   'index': 0,\n",
       "   'logprobs': -1.5340794255727959,\n",
       "   'message': {'content': \"Okay, here is a story for you.\\n\\n***\\n\\nElara lived in a house that smelled faintly of old paper and dried herbs. It sat on a hill overlooking a valley that stretched out like a rumpled green blanket under the sky. Elara wasn't old in years, but she felt ancient in her quietude. Her days were measured by the arc of the sun across her kitchen window and the soft purr of her cat, Nimbus, curled on the worn armchair.\\n\\nShe rarely left the house. The world outside felt too loud, too fast, a jumble of colours and noises that overwhelmed her gentle senses. She preferred the predictable comfort of her solitude, the rustle of book pages, the simmering of soup on the stove, the familiar creaks and groans of the old house settling around her like a comfortable cloak.\\n\\nOne blustery afternoon, while searching for a long-lost gardening glove in the dusty attic, her fingers brushed against something cool and smooth tucked away in a wooden chest filled with old linens and forgotten keepsakes. It was a small, intricately carved wooden bird, no bigger than her thumb. Its wings were folded neatly against its body, and its tiny head was tilted slightly, as if listening.\\n\\nThere was nothing remarkable about it, she thought, turning it over in her palm. Just a simple carving. Yet, as she held it, a faint, almost imperceptible sound reached her ears. It was like a tiny, distant melody, too quiet to truly make out, but definitely *there*.\\n\\nCurious, she brought the little bird downstairs. Holding it loosely, she sat by the window. The faint sound persisted. She brought it closer to her ear, and the melody grew clearer, unfolding like delicate origami. It wasn't music she recognised, but something wilder, more primal.\\n\\nHolding the bird, Elara closed her eyes and listened. The sound deepened, shifted. She heard the distinct call of a bird she knew lived deep in the whispering woods behind her house – the elusive wood thrush, whose song she hadn't heard in years. Then, the sound changed again. It became the rush of water, the tumble of a faraway waterfall, cool and invigorating.\\n\\nOver the next few days, Elara experimented with the little wooden bird. She found that when she held it and focused, she could tune into sounds from places both near and far.\\n\\nShe heard the rhythmic crash of waves on a coast she had never visited, the low hum of city life miles away (a sound she usually avoided, but now heard as a fascinating, distant symphony), the gentle patter of rain on leaves in a forest she imagined deep and green. She heard the faint, cheerful chatter of children playing in a park on the other side of the valley, the distant bark of a sheepdog, the mournful cry of a train whistle crossing invisible plains.\\n\\nThe little bird didn't give her visions or transport her anywhere physically. It simply brought the *sound* of the world to her.\\n\\nHer quiet days were transformed. She would sit in her window seat, the tiny bird in her hand, and listen. She heard the wind whistling through mountain peaks, the quiet crunch of snow under boots somewhere cold, the lively buzz of insects in a meadow she pictured full of wildflowers. She heard the shared laughter around a distant campfire, the gentle lapping of water against a boat, the distinct *thump-thump* of a rabbit's foot on soft earth.\\n\\nShe never understood where the little bird came from or how it worked. It didn't matter. It was a quiet miracle.\\n\\nElara still lived in her house on the hill, still smelled old paper and dried herbs. Nimbus still purred on the armchair. But her world was no longer confined by her walls or the valley below. Through the tiny wooden bird, she was connected. She could close her eyes and listen to the symphony of existence, a vast, vibrant network of sounds that reminded her she was part of something immense and beautiful, even from her quiet, solitary corner of the world. And that, she found, was enough to fill her quiet heart with a gentle, resonant joy.\\n\\nThe end.\",\n",
       "    'refusal': None,\n",
       "    'role': 'assistant',\n",
       "    'annotations': None,\n",
       "    'audio': None,\n",
       "    'function_call': None,\n",
       "    'tool_calls': None}}],\n",
       " 'created': 1746397678,\n",
       " 'model': 'gemini-2.5-flash-preview-04-17',\n",
       " 'object': 'chat.completion',\n",
       " 'service_tier': None,\n",
       " 'system_fingerprint': None,\n",
       " 'usage': {'completion_tokens': 862,\n",
       "  'prompt_tokens': 5,\n",
       "  'total_tokens': 2592,\n",
       "  'completion_tokens_details': None,\n",
       "  'prompt_tokens_details': {'audio_tokens': None, 'cached_tokens': None}},\n",
       " 'vertex_ai_grounding_metadata': [],\n",
       " 'vertex_ai_safety_results': [],\n",
       " 'vertex_ai_citation_metadata': []}"
      ]
     },
     "metadata": {},
     "output_type": "display_data"
    }
   ],
   "source": [
    "import asyncio\n",
    "from openai import AsyncOpenAI\n",
    "\n",
    "async def main():\n",
    "    # Initialize the asynchronous client; ensure your API key is set appropriately.\n",
    "    client = AsyncOpenAI(api_key=\"anything\", base_url=\"http://0.0.0.0:4000\")\n",
    "    response = await client.chat.completions.create(\n",
    "        model=\"gemini-2.5-flash\",\n",
    "        messages=[{\"role\": \"user\", \"content\": \"Tell me a story.\"}],\n",
    "    )\n",
    "    display(response.model_dump())\n",
    "\n",
    "await main()\n"
   ]
  },
  {
   "cell_type": "code",
   "execution_count": 25,
   "id": "edd18505",
   "metadata": {},
   "outputs": [
    {
     "data": {
      "text/plain": [
       "ChatCompletionMessage(id='chatcmpl-74727a4a-5e8a-47fb-8d41-8f2dbe250e46', choices=[Choice(finish_reason='stop', index=0, message=AssistantMessage(content='Wishing sweet dreams, the gentle unicorn curled up beneath the sleepy moon.', refusal=None, role='assistant', annotations=None, audio=None, tool_calls=None, function_call=None), logprobs=-29.328223092215403)], created=1746385532, model='gemini-2.5-flash-preview-04-17', usage=CompletionUsage(completion_tokens=14, prompt_tokens=11, total_tokens=801, completion_tokens_details=None, prompt_tokens_details={'audio_tokens': None, 'cached_tokens': None}), object='chat.completion', service_tier=None, system_fingerprint=None, vertex_ai_grounding_metadata=[], vertex_ai_safety_results=[], vertex_ai_citation_metadata=[])"
      ]
     },
     "execution_count": 25,
     "metadata": {},
     "output_type": "execute_result"
    }
   ],
   "source": [
    "from iagent.ai.messages import ChatCompletionMessage\n",
    "response = ChatCompletionMessage(**completion.model_dump())\n",
    "response"
   ]
  },
  {
   "cell_type": "code",
   "execution_count": 26,
   "id": "a28fb3a7",
   "metadata": {},
   "outputs": [
    {
     "data": {
      "application/json": {
       "choices": [
        {
         "finish_reason": "stop",
         "index": 0,
         "logprobs": -29.328223092215403,
         "message": {
          "annotations": null,
          "audio": null,
          "content": "Wishing sweet dreams, the gentle unicorn curled up beneath the sleepy moon.",
          "function_call": null,
          "refusal": null,
          "role": "assistant",
          "tool_calls": null
         }
        }
       ],
       "created": 1746385532,
       "id": "chatcmpl-74727a4a-5e8a-47fb-8d41-8f2dbe250e46",
       "model": "gemini-2.5-flash-preview-04-17",
       "object": "chat.completion",
       "service_tier": null,
       "system_fingerprint": null,
       "usage": {
        "completion_tokens": 14,
        "completion_tokens_details": null,
        "prompt_tokens": 11,
        "prompt_tokens_details": {
         "audio_tokens": null,
         "cached_tokens": null
        },
        "total_tokens": 801
       },
       "vertex_ai_citation_metadata": [],
       "vertex_ai_grounding_metadata": [],
       "vertex_ai_safety_results": []
      },
      "text/plain": [
       "<IPython.core.display.JSON object>"
      ]
     },
     "metadata": {
      "application/json": {
       "expanded": false,
       "root": "root"
      }
     },
     "output_type": "display_data"
    }
   ],
   "source": [
    "display(JSON(response.model_dump()))"
   ]
  },
  {
   "cell_type": "code",
   "execution_count": 27,
   "id": "3048feb6",
   "metadata": {},
   "outputs": [],
   "source": [
    "from iagent.ai.messages import ImageURL, PartImage, PartText\n",
    "\n",
    "\n",
    "user = UserMessage(content=[\n",
    "    PartText(text=\"What's in this image?\"),\n",
    "    PartImage(\n",
    "        image_url=ImageURL(\n",
    "            url=\"https://upload.wikimedia.org/wikipedia/commons/thumb/d/dd/Gfp-wisconsin-madison-the-nature-boardwalk.jpg/2560px-Gfp-wisconsin-madison-the-nature-boardwalk.jpg\",\n",
    "        )\n",
    "    ),\n",
    "])\n"
   ]
  },
  {
   "cell_type": "code",
   "execution_count": 29,
   "id": "002cca4c",
   "metadata": {},
   "outputs": [
    {
     "data": {
      "text/plain": [
       "UserMessage(content=[PartText(text=\"What's in this image?\", type='text'), PartImage(image_url=ImageURL(url='https://upload.wikimedia.org/wikipedia/commons/thumb/d/dd/Gfp-wisconsin-madison-the-nature-boardwalk.jpg/2560px-Gfp-wisconsin-madison-the-nature-boardwalk.jpg', detail=None), type='image_url')], role='user')"
      ]
     },
     "metadata": {},
     "output_type": "display_data"
    }
   ],
   "source": [
    "display(user)"
   ]
  },
  {
   "cell_type": "code",
   "execution_count": 30,
   "id": "7ddda0cb",
   "metadata": {},
   "outputs": [],
   "source": [
    "\n",
    "messages=[\n",
    "    {\n",
    "        \"role\": \"user\",\n",
    "        \"content\": [\n",
    "            {\"type\": \"text\", \"text\": \"What's in this image?\"},\n",
    "            {\n",
    "                \"type\": \"image_url\",\n",
    "                \"image_url\": {\n",
    "                    \"url\": \"https://upload.wikimedia.org/wikipedia/commons/thumb/d/dd/Gfp-wisconsin-madison-the-nature-boardwalk.jpg/2560px-Gfp-wisconsin-madison-the-nature-boardwalk.jpg\",\n",
    "                },\n",
    "            },\n",
    "        ],\n",
    "    }\n",
    "]\n",
    "\n",
    "response = client.chat.completions.create(\n",
    "    model=\"gemini-2.5-flash\",\n",
    "    messages=[asdict(user)], # convert to json)\n",
    ")"
   ]
  },
  {
   "cell_type": "code",
   "execution_count": 31,
   "id": "73d97dab",
   "metadata": {},
   "outputs": [
    {
     "name": "stderr",
     "output_type": "stream",
     "text": [
      "/home/taohu/workspace/projects/iagent/.venv/lib/python3.12/site-packages/pydantic/main.py:463: UserWarning: Pydantic serializer warnings:\n",
      "  PydanticSerializationUnexpectedValue(Expected `ChoiceLogprobs` - serialized value may not be as expected [input_value=-0.7200167065575009, input_type=float])\n",
      "  return self.__pydantic_serializer__.to_python(\n"
     ]
    },
    {
     "data": {
      "text/plain": [
       "{'id': 'chatcmpl-d7d730df-5f0b-4e66-878f-3d5e84a76776',\n",
       " 'choices': [{'finish_reason': 'stop',\n",
       "   'index': 0,\n",
       "   'logprobs': -0.7200167065575009,\n",
       "   'message': {'content': 'The image shows a wooden boardwalk path leading through a lush green field. The field is full of tall grass, and in the background, there are trees and shrubs. The sky is blue with scattered white clouds.',\n",
       "    'refusal': None,\n",
       "    'role': 'assistant',\n",
       "    'annotations': None,\n",
       "    'audio': None,\n",
       "    'function_call': None,\n",
       "    'tool_calls': None}}],\n",
       " 'created': 1746385686,\n",
       " 'model': 'gemini-2.5-flash-preview-04-17',\n",
       " 'object': 'chat.completion',\n",
       " 'service_tier': None,\n",
       " 'system_fingerprint': None,\n",
       " 'usage': {'completion_tokens': 42,\n",
       "  'prompt_tokens': 3361,\n",
       "  'total_tokens': 3467,\n",
       "  'completion_tokens_details': None,\n",
       "  'prompt_tokens_details': {'audio_tokens': None, 'cached_tokens': None}},\n",
       " 'vertex_ai_grounding_metadata': [],\n",
       " 'vertex_ai_safety_results': [],\n",
       " 'vertex_ai_citation_metadata': []}"
      ]
     },
     "metadata": {},
     "output_type": "display_data"
    }
   ],
   "source": [
    "\n",
    "display(response.model_dump())"
   ]
  },
  {
   "cell_type": "code",
   "execution_count": 15,
   "id": "9033a56e",
   "metadata": {},
   "outputs": [
    {
     "data": {
      "text/plain": [
       "ChatCompletion(id='chatcmpl-59677abf-9e61-4dcf-aa6a-ac533ff252d4', choices=[Choice(finish_reason='stop', index=0, logprobs=-5.809162684849331, message=ChatCompletionMessage(content=\" Briefly, what's happening?\\n\\nThe image shows a woman outdoors using a smartphone. She is looking at the screen and touching it.\", refusal=None, role='assistant', annotations=None, audio=None, function_call=None, tool_calls=None))], created=1746384978, model='gemini-2.5-flash-preview-04-17', object='chat.completion', service_tier=None, system_fingerprint=None, usage=CompletionUsage(completion_tokens=28, prompt_tokens=7, total_tokens=443, completion_tokens_details=None, prompt_tokens_details=PromptTokensDetails(audio_tokens=None, cached_tokens=None)), vertex_ai_grounding_metadata=[], vertex_ai_safety_results=[], vertex_ai_citation_metadata=[])"
      ]
     },
     "execution_count": 15,
     "metadata": {},
     "output_type": "execute_result"
    }
   ],
   "source": [
    "response"
   ]
  },
  {
   "cell_type": "code",
   "execution_count": null,
   "id": "649737d2",
   "metadata": {},
   "outputs": [],
   "source": []
  }
 ],
 "metadata": {
  "kernelspec": {
   "display_name": ".venv",
   "language": "python",
   "name": "python3"
  },
  "language_info": {
   "codemirror_mode": {
    "name": "ipython",
    "version": 3
   },
   "file_extension": ".py",
   "mimetype": "text/x-python",
   "name": "python",
   "nbconvert_exporter": "python",
   "pygments_lexer": "ipython3",
   "version": "3.12.3"
  }
 },
 "nbformat": 4,
 "nbformat_minor": 5
}
