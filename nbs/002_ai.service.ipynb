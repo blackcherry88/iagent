{
 "cells": [
  {
   "cell_type": "code",
   "execution_count": null,
   "metadata": {},
   "outputs": [],
   "source": [
    "%load_ext autoreload\n",
    "%autoreload 2"
   ]
  },
  {
   "cell_type": "markdown",
   "metadata": {},
   "source": [
    "# ai.service\n",
    "\n",
    "> Define basic ai service "
   ]
  },
  {
   "cell_type": "code",
   "execution_count": null,
   "metadata": {},
   "outputs": [],
   "source": [
    "#| default_exp ai.service"
   ]
  },
  {
   "cell_type": "code",
   "execution_count": null,
   "metadata": {},
   "outputs": [],
   "source": [
    "#| hide\n",
    "from nbdev.showdoc import *"
   ]
  },
  {
   "cell_type": "code",
   "execution_count": null,
   "metadata": {},
   "outputs": [],
   "source": [
    "#| export\n",
    "from abc import ABC\n",
    "from dataclasses import dataclass\n",
    "from typing import List, Optional\n",
    "from iagent.ai.messages import AnyMessage\n",
    "from iagent.ai.responses import ChatCompletionResponse\n",
    "\n",
    "@dataclass\n",
    "class ChatSettings:\n",
    "    temperature: Optional[float] = None\n",
    "    top_k: Optional[int] = None\n",
    "    top_p: Optional[float] = None\n",
    "    max_tokens: Optional[int] = None\n",
    "    max_new_tokens: Optional[int] = None\n",
    "    frequency_penalty: Optional[float] = None\n",
    "    presence_penalty: Optional[float] = None\n",
    "\n",
    "\n",
    "class ChatClientBase(ABC):\n",
    "    def __init__(self, settings: ChatSettings = None):\n",
    "        self.settings = settings\n",
    "\n",
    "    def chat(self, model_id: str, messages: List[AnyMessage], setting: ChatSettings = None) -> ChatCompletionResponse:\n",
    "        raise NotImplementedError\n",
    "    \n",
    "\n",
    "\n"
   ]
  },
  {
   "cell_type": "code",
   "execution_count": null,
   "metadata": {},
   "outputs": [],
   "source": [
    "#| hide\n",
    "import nbdev; nbdev.nbdev_export()"
   ]
  }
 ],
 "metadata": {
  "kernelspec": {
   "display_name": "python3",
   "language": "python",
   "name": "python3"
  }
 },
 "nbformat": 4,
 "nbformat_minor": 4
}
