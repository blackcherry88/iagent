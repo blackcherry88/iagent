{
 "cells": [
  {
   "cell_type": "markdown",
   "metadata": {},
   "source": [
    "# core.types\n",
    "\n",
    "> Some core types in case we want to replace them in future"
   ]
  },
  {
   "cell_type": "code",
   "execution_count": null,
   "metadata": {},
   "outputs": [],
   "source": [
    "#| default_exp core.messages"
   ]
  },
  {
   "cell_type": "code",
   "execution_count": null,
   "metadata": {},
   "outputs": [],
   "source": [
    "#| hide\n",
    "from nbdev.showdoc import *"
   ]
  },
  {
   "cell_type": "code",
   "execution_count": null,
   "metadata": {},
   "outputs": [],
   "source": [
    "#| export\n",
    "import langchain_core.messages as messages\n",
    "\n",
    "type AIMessage = messages.AIMessage\n",
    "type AnyMessage = messages.AnyMessage\n",
    "type BaseMessage = messages.BaseMessage\n",
    "type ChatMessage = messages.ChatMessage\n",
    "type FunctionMessage = messages.FunctionMessage\n",
    "type HumanMessage = messages.HumanMessage\n",
    "type SystemMessage = messages.SystemMessage\n",
    "type ToolCall = messages.ToolCall\n",
    "type ToolMessage = messages.ToolMessage\n",
    "\n",
    "type AIMessageChunk = messages.AIMessageChunk\n",
    "type BaseMessageChunk = messages.BaseMessageChunk\n",
    "type ChatMessageChunk = messages.ChatMessageChunk\n",
    "type FunctionMessageChunk = messages.FunctionMessageChunk\n",
    "type HumanMessageChunk = messages.HumanMessageChunk\n",
    "type SystemMessageChunk = messages.SystemMessageChunk\n",
    "type ToolCallChunk = messages.ToolCallChunk\n",
    "type ToolMessageChunk = messages.ToolMessageChunk\n"
   ]
  },
  {
   "cell_type": "code",
   "execution_count": null,
   "metadata": {},
   "outputs": [],
   "source": [
    "#| hide\n",
    "import nbdev; nbdev.nbdev_export()"
   ]
  }
 ],
 "metadata": {
  "kernelspec": {
   "display_name": "python3",
   "language": "python",
   "name": "python3"
  }
 },
 "nbformat": 4,
 "nbformat_minor": 4
}
