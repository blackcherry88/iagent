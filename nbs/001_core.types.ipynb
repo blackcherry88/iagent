{
 "cells": [
  {
   "cell_type": "markdown",
   "metadata": {},
   "source": [
    "# core.types\n",
    "\n",
    "> Some core types in case we want to replace them in future"
   ]
  },
  {
   "cell_type": "code",
   "execution_count": null,
   "metadata": {},
   "outputs": [],
   "source": [
    "#| default_exp core.messages"
   ]
  },
  {
   "cell_type": "code",
   "execution_count": null,
   "metadata": {},
   "outputs": [],
   "source": [
    "#| hide\n",
    "from nbdev.showdoc import *"
   ]
  },
  {
   "cell_type": "code",
   "execution_count": null,
   "metadata": {},
   "outputs": [],
   "source": [
    "#| export\n",
    "import langchain_core.messages as messages\n",
    "\n",
    "AIMessage = messages.AIMessage\n",
    "AnyMessage = messages.AnyMessage\n",
    "BaseMessage = messages.BaseMessage\n",
    "ChatMessage = messages.ChatMessage\n",
    "FunctionMessage = messages.FunctionMessage\n",
    "HumanMessage = messages.HumanMessage\n",
    "SystemMessage = messages.SystemMessage\n",
    "ToolCall = messages.ToolCall\n",
    "ToolMessage = messages.ToolMessage\n",
    "\n",
    "AIMessageChunk = messages.AIMessageChunk\n",
    "BaseMessageChunk = messages.BaseMessageChunk\n",
    "ChatMessageChunk = messages.ChatMessageChunk\n",
    "FunctionMessageChunk = messages.FunctionMessageChunk\n",
    "HumanMessageChunk = messages.HumanMessageChunk\n",
    "SystemMessageChunk = messages.SystemMessageChunk\n",
    "ToolCallChunk = messages.ToolCallChunk\n",
    "ToolMessageChunk = messages.ToolMessageChunk\n"
   ]
  },
  {
   "cell_type": "code",
   "execution_count": null,
   "metadata": {},
   "outputs": [],
   "source": [
    "#| hide\n",
    "import nbdev; nbdev.nbdev_export()"
   ]
  }
 ],
 "metadata": {
  "kernelspec": {
   "display_name": "python3",
   "language": "python",
   "name": "python3"
  }
 },
 "nbformat": 4,
 "nbformat_minor": 4
}
