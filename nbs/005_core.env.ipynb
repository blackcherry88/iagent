{
 "cells": [
  {
   "cell_type": "code",
   "execution_count": null,
   "metadata": {},
   "outputs": [],
   "source": [
    "%load_ext autoreload\n",
    "%autoreload 2"
   ]
  },
  {
   "cell_type": "markdown",
   "metadata": {},
   "source": [
    "# core.env\n",
    "\n",
    "> Core env type"
   ]
  },
  {
   "cell_type": "code",
   "execution_count": null,
   "metadata": {},
   "outputs": [],
   "source": [
    "#| default_exp core.env"
   ]
  },
  {
   "cell_type": "code",
   "execution_count": null,
   "metadata": {},
   "outputs": [],
   "source": [
    "#| hide\n",
    "from nbdev.showdoc import *"
   ]
  },
  {
   "cell_type": "code",
   "execution_count": null,
   "metadata": {},
   "outputs": [],
   "source": [
    "#| export\n",
    "\n",
    "from abc import ABC\n",
    "from iagent.core.llm import BaseChatModel\n",
    "\n",
    "class BaseEnv(ABC):\n",
    "    \"\"\"\n",
    "    A class to represent the environment iagent.\n",
    "    \"\"\"\n",
    "\n",
    "    def __init__(self):\n",
    "        self._env = {}\n",
    "\n",
    "    def register_llm(self, name: str, llm: BaseChatModel):\n",
    "        self._env[f\"llm-{name}\"] = llm\n",
    "\n",
    "    def get_llm(self, name: str) -> BaseChatModel:\n",
    "        return self._env.get(f\"llm-{name}\", None)\n",
    "\n",
    "\n"
   ]
  },
  {
   "cell_type": "code",
   "execution_count": null,
   "metadata": {},
   "outputs": [],
   "source": [
    "#| hide\n",
    "import nbdev; nbdev.nbdev_export()"
   ]
  }
 ],
 "metadata": {
  "kernelspec": {
   "display_name": "python3",
   "language": "python",
   "name": "python3"
  }
 },
 "nbformat": 4,
 "nbformat_minor": 4
}
