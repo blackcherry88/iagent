{
 "cells": [
  {
   "cell_type": "code",
   "execution_count": null,
   "metadata": {},
   "outputs": [],
   "source": [
    "%load_ext autoreload\n",
    "%autoreload 2"
   ]
  },
  {
   "cell_type": "markdown",
   "metadata": {},
   "source": [
    "# MCP Tool\n",
    "\n",
    "> Basic function for MCP Tool\n"
   ]
  },
  {
   "cell_type": "code",
   "execution_count": null,
   "metadata": {},
   "outputs": [],
   "source": [
    "#| default_exp mcp"
   ]
  },
  {
   "cell_type": "code",
   "execution_count": null,
   "metadata": {},
   "outputs": [],
   "source": [
    "#| hide\n",
    "from nbdev.showdoc import *"
   ]
  },
  {
   "cell_type": "code",
   "execution_count": null,
   "metadata": {},
   "outputs": [
    {
     "ename": "ImportError",
     "evalue": "cannot import name 'call_tool' from 'langchain_mcp_adapters.tools' (/home/taohu/workspace/projects/iagent/.venv/lib/python3.12/site-packages/langchain_mcp_adapters/tools.py)",
     "output_type": "error",
     "traceback": [
      "\u001b[31m---------------------------------------------------------------------------\u001b[39m",
      "\u001b[31mImportError\u001b[39m                               Traceback (most recent call last)",
      "\u001b[36mCell\u001b[39m\u001b[36m \u001b[39m\u001b[32mIn[4]\u001b[39m\u001b[32m, line 2\u001b[39m\n\u001b[32m      1\u001b[39m \u001b[38;5;66;03m#| export\u001b[39;00m\n\u001b[32m----> \u001b[39m\u001b[32m2\u001b[39m \u001b[38;5;28;01mfrom\u001b[39;00m\u001b[38;5;250m \u001b[39m\u001b[34;01mlangchain_mcp_adapters\u001b[39;00m\u001b[34;01m.\u001b[39;00m\u001b[34;01mtools\u001b[39;00m\u001b[38;5;250m \u001b[39m\u001b[38;5;28;01mimport\u001b[39;00m (\n\u001b[32m      3\u001b[39m     call_tool \u001b[38;5;28;01mas\u001b[39;00m lc_call_tool,\n\u001b[32m      4\u001b[39m     load_mcp_tools \u001b[38;5;28;01mas\u001b[39;00m lc_load_mcp_tools,\n\u001b[32m      5\u001b[39m )\n\u001b[32m      7\u001b[39m call_tool = lc_call_tool\n\u001b[32m      8\u001b[39m load_mcp_tools = lc_load_mcp_tools\n",
      "\u001b[31mImportError\u001b[39m: cannot import name 'call_tool' from 'langchain_mcp_adapters.tools' (/home/taohu/workspace/projects/iagent/.venv/lib/python3.12/site-packages/langchain_mcp_adapters/tools.py)"
     ]
    }
   ],
   "source": [
    "#| export\n",
    "from langchain_mcp_adapters.tools import (\n",
    "    load_mcp_tools as lc_load_mcp_tools,\n",
    ")\n",
    "\n",
    "load_mcp_tools = lc_load_mcp_tools"
   ]
  },
  {
   "cell_type": "code",
   "execution_count": null,
   "metadata": {},
   "outputs": [],
   "source": [
    "#| hide\n",
    "import nbdev; nbdev.nbdev_export()"
   ]
  }
 ],
 "metadata": {
  "kernelspec": {
   "display_name": "python3",
   "language": "python",
   "name": "python3"
  }
 },
 "nbformat": 4,
 "nbformat_minor": 4
}
